{
 "cells": [
  {
   "cell_type": "markdown",
   "metadata": {
    "collapsed": true
   },
   "source": [
    "# 1: Degree and Closeness Centrality.\n",
    "## Degree Centrality.\n",
    "- UN-directed Graph"
   ]
  },
  {
   "cell_type": "code",
   "execution_count": 1,
   "metadata": {},
   "outputs": [
    {
     "name": "stdout",
     "output_type": "stream",
     "text": [
      "0.5151515151515151\n",
      "0.36363636363636365\n"
     ]
    }
   ],
   "source": [
    "import networkx as nx\n",
    "\n",
    "G = nx.karate_club_graph()\n",
    "# Convert node labels to numbers to match the figure:\n",
    "G = nx.convert_node_labels_to_integers(G , first_label=1)\n",
    "# now , get the Degree Centrality for each node in the Network:\n",
    "degCent = nx.degree_centrality(G)\n",
    "\n",
    "# print the centrality degree of node `34`.\n",
    "print(degCent[34])  # 17/33\n",
    "print(degCent[33])  # 12/33"
   ]
  },
  {
   "cell_type": "markdown",
   "metadata": {},
   "source": [
    "- Directed Graph."
   ]
  },
  {
   "cell_type": "code",
   "execution_count": 2,
   "metadata": {
    "collapsed": true
   },
   "outputs": [],
   "source": [
    "G = nx.DiGraph()\n",
    "G.add_edges_from([('A', 'B'), ('C', 'A'), ('A', 'E'), ('G', 'A'), ('A', 'N'),\n",
    "                  ('B', 'C'), ('D', 'B'), ('B', 'E'), ('C', 'D'), ('E', 'C'),\n",
    "                  ('D', 'E'), ('E', 'D'), ('F', 'G'), ('I', 'F'), ('J', 'F'),\n",
    "                  ('H', 'G'), ('I', 'G'), ('G', 'J'), ('I', 'H'), ('H', 'I'),\n",
    "                  ('I', 'J'), ('J', 'O'), ('O', 'J'), ('K', 'M'), ('K', 'L'),\n",
    "                  ('O', 'K'), ('O', 'L'), ('N', 'L'), ('L', 'M'), ('N', 'O')])"
   ]
  },
  {
   "cell_type": "markdown",
   "metadata": {},
   "source": [
    "In directed graph you have the chooce to measure according to `in_degree` or `out_degree` Centrality. let's try out in_degree_centrality."
   ]
  },
  {
   "cell_type": "code",
   "execution_count": 3,
   "metadata": {},
   "outputs": [
    {
     "name": "stdout",
     "output_type": "stream",
     "text": [
      "0.14285714285714285\n",
      "0.21428571428571427\n",
      "\n",
      " 0.21428571428571427\n",
      "0.07142857142857142\n"
     ]
    }
   ],
   "source": [
    "# in degree.\n",
    "indegCent = nx.in_degree_centrality(G)\n",
    "print(indegCent['A'])  # 2/14\n",
    "print(indegCent['L'])  # 3/14\n",
    "\n",
    "# out degree.\n",
    "outdegCent = nx.out_degree_centrality(G)\n",
    "print('\\n',outdegCent['A'])  # 3/14\n",
    "print(outdegCent['L'])  # 1/14"
   ]
  },
  {
   "cell_type": "markdown",
   "metadata": {},
   "source": [
    "## Closeness Centrality.\n",
    "- UN-directed Graph"
   ]
  },
  {
   "cell_type": "code",
   "execution_count": 4,
   "metadata": {},
   "outputs": [
    {
     "data": {
      "text/plain": [
       "0.5409836065573771"
      ]
     },
     "execution_count": 4,
     "metadata": {},
     "output_type": "execute_result"
    }
   ],
   "source": [
    "G = nx.karate_club_graph()\n",
    "# Convert node labels to numbers to match the figure:\n",
    "G = nx.convert_node_labels_to_integers(G , first_label=1)\n",
    "\n",
    "# Get the Closeness Centrality score for every node in the network.\n",
    "closeCent = nx.closeness_centrality(G)\n",
    "closeCent[32]"
   ]
  },
  {
   "cell_type": "markdown",
   "metadata": {},
   "source": [
    "**VERIFYING THE RULE**"
   ]
  },
  {
   "cell_type": "code",
   "execution_count": 5,
   "metadata": {},
   "outputs": [
    {
     "name": "stdout",
     "output_type": "stream",
     "text": [
      "61\n",
      "33\n"
     ]
    },
    {
     "data": {
      "text/plain": [
       "0.5409836065573771"
      ]
     },
     "execution_count": 5,
     "metadata": {},
     "output_type": "execute_result"
    }
   ],
   "source": [
    "# calculate the path by how many edges to reach the node `32`.\n",
    "# So, we can easily know the distance from `32` and all other nodes using \n",
    "# shortest_path_length() which built upon the bfs_tree .\n",
    "\n",
    "denominator = sum(nx.shortest_path_length(G,32).values())\n",
    "print(denominator)\n",
    "\n",
    "nominator = len(G.nodes()) - 1\n",
    "print(nominator)\n",
    "\n",
    "Close_32 = nominator/denominator\n",
    "Close_32"
   ]
  },
  {
   "cell_type": "markdown",
   "metadata": {
    "collapsed": true
   },
   "source": [
    "**How to measure the closeness centrality of a node when it cannot reach all other nodes.** \n",
    "\n",
    "EX : `Directed` Graph with nodes that can't reach evert other node like `L`."
   ]
  },
  {
   "cell_type": "code",
   "execution_count": 6,
   "metadata": {
    "collapsed": true
   },
   "outputs": [],
   "source": [
    "G = nx.DiGraph()\n",
    "G.add_edges_from([('A', 'B'), ('C', 'A'), ('A', 'E'), ('G', 'A'), ('A', 'N'),\n",
    "                  ('B', 'C'), ('D', 'B'), ('B', 'E'), ('C', 'D'), ('E', 'C'),\n",
    "                  ('D', 'E'), ('E', 'D'), ('F', 'G'), ('I', 'F'), ('J', 'F'),\n",
    "                  ('H', 'G'), ('I', 'G'), ('G', 'J'), ('I', 'H'), ('H', 'I'),\n",
    "                  ('I', 'J'), ('J', 'O'), ('O', 'J'), ('K', 'M'), ('K', 'L'),\n",
    "                  ('O', 'K'), ('O', 'L'), ('N', 'L'), ('L', 'M'), ('N', 'O')])"
   ]
  },
  {
   "cell_type": "code",
   "execution_count": 7,
   "metadata": {},
   "outputs": [
    {
     "name": "stdout",
     "output_type": "stream",
     "text": [
      "1.0\n",
      "0.07142857142857142\n"
     ]
    }
   ],
   "source": [
    "# Option_1\n",
    "closeCent = nx.closeness_centrality(G , normalized= False)\n",
    "print(closeCent['L'])\n",
    "\n",
    "# Option_2\n",
    "closeCent = nx.closeness_centrality(G , normalized= True)\n",
    "print(closeCent['L'])"
   ]
  },
  {
   "cell_type": "markdown",
   "metadata": {
    "collapsed": true
   },
   "source": [
    "# 2: Betweenness Centrality."
   ]
  },
  {
   "cell_type": "code",
   "execution_count": 8,
   "metadata": {
    "collapsed": true
   },
   "outputs": [],
   "source": [
    "G = nx.karate_club_graph()\n",
    "# Convert node labels to numbers to match the figure:\n",
    "G = nx.convert_node_labels_to_integers(G , first_label=1)"
   ]
  },
  {
   "cell_type": "code",
   "execution_count": 9,
   "metadata": {},
   "outputs": [
    {
     "data": {
      "text/plain": [
       "{1: 0.4376352813852815,\n",
       " 2: 0.05393668831168831,\n",
       " 3: 0.14365680615680615,\n",
       " 4: 0.011909271284271283,\n",
       " 5: 0.0006313131313131313,\n",
       " 6: 0.02998737373737374,\n",
       " 7: 0.029987373737373736,\n",
       " 8: 0.0,\n",
       " 9: 0.05592682780182782,\n",
       " 10: 0.0008477633477633478,\n",
       " 11: 0.0006313131313131313,\n",
       " 12: 0.0,\n",
       " 13: 0.0,\n",
       " 14: 0.045863395863395856,\n",
       " 15: 0.0,\n",
       " 16: 0.0,\n",
       " 17: 0.0,\n",
       " 18: 0.0,\n",
       " 19: 0.0,\n",
       " 20: 0.03247504810004811,\n",
       " 21: 0.0,\n",
       " 22: 0.0,\n",
       " 23: 0.0,\n",
       " 24: 0.017613636363636363,\n",
       " 25: 0.0022095959595959595,\n",
       " 26: 0.0038404882154882162,\n",
       " 27: 0.0,\n",
       " 28: 0.022333453583453587,\n",
       " 29: 0.0017947330447330447,\n",
       " 30: 0.0029220779220779218,\n",
       " 31: 0.014411976911976905,\n",
       " 32: 0.13827561327561327,\n",
       " 33: 0.14524711399711404,\n",
       " 34: 0.30407497594997596}"
      ]
     },
     "execution_count": 9,
     "metadata": {},
     "output_type": "execute_result"
    }
   ],
   "source": [
    "btwnCent = nx.betweenness_centrality(G, normalized=True , endpoints=False)\n",
    "btwnCent"
   ]
  },
  {
   "cell_type": "code",
   "execution_count": 10,
   "metadata": {},
   "outputs": [
    {
     "data": {
      "text/plain": [
       "[(1, 0.4376352813852815),\n",
       " (34, 0.30407497594997596),\n",
       " (33, 0.14524711399711404),\n",
       " (3, 0.14365680615680615),\n",
       " (32, 0.13827561327561327)]"
      ]
     },
     "execution_count": 10,
     "metadata": {},
     "output_type": "execute_result"
    }
   ],
   "source": [
    "# let's get the heighest node in terms of `btwnCent` there are 2 methods:\n",
    "# method_1\n",
    "sorted(btwnCent.items() , key= lambda x: x[1] , reverse=True)[:5]"
   ]
  },
  {
   "cell_type": "code",
   "execution_count": 11,
   "metadata": {},
   "outputs": [
    {
     "data": {
      "text/plain": [
       "[(1, 0.4376352813852815),\n",
       " (34, 0.30407497594997596),\n",
       " (33, 0.14524711399711404),\n",
       " (3, 0.14365680615680615),\n",
       " (32, 0.13827561327561327)]"
      ]
     },
     "execution_count": 11,
     "metadata": {},
     "output_type": "execute_result"
    }
   ],
   "source": [
    "# method_2\n",
    "import operator\n",
    "sorted(btwnCent.items() , key= operator.itemgetter(1) , reverse=True)[:5]"
   ]
  },
  {
   "cell_type": "markdown",
   "metadata": {},
   "source": [
    "- **Here we are going to experience `Approximation` Approach to avoid computing btwnCent based on all pairs of nodes. Basically, it will take sample from the network to take its pairs instead of all possible pairs (s,t) in the entire network.** "
   ]
  },
  {
   "cell_type": "code",
   "execution_count": 12,
   "metadata": {},
   "outputs": [
    {
     "data": {
      "text/plain": [
       "[(1, 0.3890058321308321),\n",
       " (34, 0.3346951659451659),\n",
       " (33, 0.22431066618566617),\n",
       " (32, 0.15064604377104376),\n",
       " (3, 0.1457500601250601)]"
      ]
     },
     "execution_count": 12,
     "metadata": {},
     "output_type": "execute_result"
    }
   ],
   "source": [
    "btwnCent_approx = nx.betweenness_centrality(G, normalized=True ,\n",
    "                                     endpoints=False , k=10)\n",
    "# sort the dictionary above.\n",
    "sorted(btwnCent_approx.items() , key= lambda x: x[1] , reverse=True)[:5]"
   ]
  },
  {
   "cell_type": "markdown",
   "metadata": {},
   "source": [
    "- **Here we will use a `subsets` to choose s & t from as another option to reduce computational time and to inspect the btwnCent between a specific 2 groups of nodes.**"
   ]
  },
  {
   "cell_type": "code",
   "execution_count": 13,
   "metadata": {},
   "outputs": [
    {
     "data": {
      "text/plain": [
       "[(1, 0.04899515993265994),\n",
       " (34, 0.028807419432419434),\n",
       " (3, 0.018368205868205867),\n",
       " (33, 0.01664712602212602),\n",
       " (9, 0.014519450456950456)]"
      ]
     },
     "execution_count": 13,
     "metadata": {},
     "output_type": "execute_result"
    }
   ],
   "source": [
    "btwnCent_subset = nx.betweenness_centrality_subset(G,[34,33,21,30,16,27,15,23,10],\n",
    "                                            [1,4,13,11,6,12,17,7],\n",
    "                                                normalized=True)\n",
    "# sort the dictionary above.\n",
    "sorted(btwnCent_subset.items() , key= lambda x: x[1] , reverse=True)[:5]"
   ]
  },
  {
   "cell_type": "markdown",
   "metadata": {},
   "source": [
    "## What about The Importance of Edges ?"
   ]
  },
  {
   "cell_type": "code",
   "execution_count": 14,
   "metadata": {},
   "outputs": [
    {
     "data": {
      "text/plain": [
       "[((1, 32), 0.12725999490705373),\n",
       " ((1, 7), 0.07813428401663695),\n",
       " ((1, 6), 0.07813428401663694),\n",
       " ((1, 3), 0.07778768072885717),\n",
       " ((1, 9), 0.07423959482783016)]"
      ]
     },
     "execution_count": 14,
     "metadata": {},
     "output_type": "execute_result"
    }
   ],
   "source": [
    "btwnCent_edge = nx.edge_betweenness_centrality(G, normalized=True)\n",
    "\n",
    "# sort the dictionary above.\n",
    "sorted(btwnCent_edge.items() , key= lambda x: x[1] , reverse=True)[:5]"
   ]
  },
  {
   "cell_type": "markdown",
   "metadata": {},
   "source": [
    "- So they all tend to be edges that are connected to node number 1, which if you remember, node number 1 here is the instructor of the karate club."
   ]
  },
  {
   "cell_type": "markdown",
   "metadata": {},
   "source": [
    "**A subset of edges as we did with nodes.**"
   ]
  },
  {
   "cell_type": "code",
   "execution_count": 15,
   "metadata": {},
   "outputs": [
    {
     "data": {
      "text/plain": [
       "[((1, 9), 0.01366536513595337),\n",
       " ((1, 32), 0.01366536513595337),\n",
       " ((14, 34), 0.012207509266332794),\n",
       " ((1, 3), 0.01211343123107829),\n",
       " ((1, 6), 0.012032085561497326)]"
      ]
     },
     "execution_count": 15,
     "metadata": {},
     "output_type": "execute_result"
    }
   ],
   "source": [
    "btwnCent_edge_subset = nx.edge_betweenness_centrality_subset(G,\n",
    "                                            [34,33,21,30,16,27,15,23,10],\n",
    "                                            [1,4,13,11,6,12,17,7],\n",
    "                                            normalized=True)\n",
    "\n",
    "# sort the dictionary above.\n",
    "sorted(btwnCent_edge_subset.items() , key= lambda x: x[1] , reverse=True)[:5]"
   ]
  },
  {
   "cell_type": "markdown",
   "metadata": {},
   "source": [
    "- And if we find here the top five edges with the highest betweenness centrality for this particular choice of source and target nodes, we find that these are the the most important ones. And notice that most of them tend to be edges that go from inside the target or inside the source set to the outside. And that make sense because these are the ones that actually end up showing up in the shortest paths between the source and the targets.\n",
    "\n",
    "\n",
    "- And they also tend to be connected to very important nodes in the network, namely node number 1, which is the instructor of the karate club and node number 34, which is the instructor of the new karate club after these club splits in two."
   ]
  },
  {
   "cell_type": "markdown",
   "metadata": {
    "collapsed": true
   },
   "source": [
    "# 3,4: `Basic` & `Scaled` Page Rank."
   ]
  },
  {
   "cell_type": "markdown",
   "metadata": {
    "collapsed": true
   },
   "source": [
    "![for_coursera](for_coursera.png)\n",
    "- **Basic PAgeRank**"
   ]
  },
  {
   "cell_type": "code",
   "execution_count": 16,
   "metadata": {},
   "outputs": [
    {
     "data": {
      "text/plain": [
       "[('F', 0.3280507927524911),\n",
       " ('G', 0.328050792752491),\n",
       " ('B', 0.13072972919003595),\n",
       " ('A', 0.06543693487722958),\n",
       " ('C', 0.06315158949959035),\n",
       " ('D', 0.04920893254397847),\n",
       " ('E', 0.03537122838418331)]"
      ]
     },
     "execution_count": 16,
     "metadata": {},
     "output_type": "execute_result"
    }
   ],
   "source": [
    "G = nx.DiGraph()\n",
    "G.add_edges_from([('A', 'B'), ('C', 'B'), ('B', 'D'), ('B', 'G'), ('B', 'C'),\n",
    "                  ('B', 'F'), ('D', 'A'), ('D', 'E'), ('D', 'C'), ('E', 'A'),\n",
    "                  ('F', 'G'), ('G', 'F')])\n",
    "                  \n",
    "basic_page_rank = nx.pagerank(G)\n",
    "# sort the dictionary above.\n",
    "sorted(basic_page_rank.items() , key= lambda x: x[1] , reverse=True)[:7]"
   ]
  },
  {
   "cell_type": "markdown",
   "metadata": {},
   "source": [
    "- **Scaled PAgeRank**"
   ]
  },
  {
   "cell_type": "code",
   "execution_count": 17,
   "metadata": {},
   "outputs": [
    {
     "data": {
      "text/plain": [
       "[('F', 0.2950175048721824),\n",
       " ('G', 0.29501750487218237),\n",
       " ('B', 0.15216425904765085),\n",
       " ('A', 0.0797510311959225),\n",
       " ('C', 0.07473913572031664),\n",
       " ('D', 0.05900450477059524),\n",
       " ('E', 0.044306059521149965)]"
      ]
     },
     "execution_count": 17,
     "metadata": {},
     "output_type": "execute_result"
    }
   ],
   "source": [
    "scaled_page_rank = nx.pagerank(G, alpha=0.8)\n",
    "# sort the dictionary above.\n",
    "sorted(scaled_page_rank.items() , key= lambda x: x[1] , reverse=True)[:7]"
   ]
  },
  {
   "cell_type": "markdown",
   "metadata": {
    "collapsed": true
   },
   "source": [
    "# 5: Hubs and Authorities.\n",
    "![61](61.png)"
   ]
  },
  {
   "cell_type": "code",
   "execution_count": 18,
   "metadata": {
    "collapsed": true
   },
   "outputs": [],
   "source": [
    "G = nx.DiGraph()\n",
    "G.add_edges_from([('A', 'D'), ('B', 'C'), ('B', 'E'), ('C', 'A'), ('D', 'C'),\n",
    "              ('D', 'B'), ('E', 'F'), ('E', 'B'), ('E', 'C'), ('E', 'D'),\n",
    "             ('F', 'C'), ('F', 'H') , ('G', 'C'), ('G', 'A') ,('H', 'A')])\n",
    "\n",
    "# Then use nx.hits() that outputs `Hubs` & `Authority` respectively."
   ]
  },
  {
   "cell_type": "code",
   "execution_count": 19,
   "metadata": {},
   "outputs": [
    {
     "data": {
      "text/plain": [
       "{'A': 0.04305010866633368,\n",
       " 'B': 0.14444089275625216,\n",
       " 'C': 0.029508489628427694,\n",
       " 'D': 0.18749100142258587,\n",
       " 'E': 0.26762580012702586,\n",
       " 'F': 0.14444089275625216,\n",
       " 'G': 0.15393432501469498,\n",
       " 'H': 0.029508489628427694}"
      ]
     },
     "execution_count": 19,
     "metadata": {},
     "output_type": "execute_result"
    }
   ],
   "source": [
    "# Hubs score:\n",
    "nx.hits(G)[0]"
   ]
  },
  {
   "cell_type": "code",
   "execution_count": 20,
   "metadata": {},
   "outputs": [
    {
     "data": {
      "text/plain": [
       "{'A': 0.08751958758098452,\n",
       " 'B': 0.18704574147053715,\n",
       " 'C': 0.36903609552875044,\n",
       " 'D': 0.1276828398619346,\n",
       " 'E': 0.05936290160860254,\n",
       " 'F': 0.10998993234058818,\n",
       " 'G': 0.0,\n",
       " 'H': 0.05936290160860254}"
      ]
     },
     "execution_count": 20,
     "metadata": {},
     "output_type": "execute_result"
    }
   ],
   "source": [
    "# Authority score:\n",
    "nx.hits(G)[1]"
   ]
  },
  {
   "cell_type": "markdown",
   "metadata": {},
   "source": [
    "# 6: Centrality Examples.\n",
    "![for_coursera2](for_coursera2.png)\n"
   ]
  },
  {
   "cell_type": "code",
   "execution_count": 21,
   "metadata": {
    "collapsed": true
   },
   "outputs": [],
   "source": [
    "G = nx.DiGraph()\n",
    "G.add_edges_from([('1', '5'), ('1', '2'), ('2', '1'), ('2', '4'),\n",
    "                ('2', '3'),('3', '4'), ('3', '2'), ('3', '1'), ('4', '3'),\n",
    "                ('4', '1'),('5', '1'), ('5', '6') , ('6', '5'), ('6', '7'),\n",
    "                ('7', '6'),('7', '9'), ('7', '8') , ('8', '6'), ('8', '7'),\n",
    "                ('8', '9'),('9', '6') ,('9', '8')])"
   ]
  },
  {
   "cell_type": "markdown",
   "metadata": {},
   "source": [
    "## 1)\n",
    "**Degree Centrality**"
   ]
  },
  {
   "cell_type": "code",
   "execution_count": 22,
   "metadata": {},
   "outputs": [
    {
     "data": {
      "text/plain": [
       "[('1', 0.75),\n",
       " ('6', 0.75),\n",
       " ('2', 0.625),\n",
       " ('3', 0.625),\n",
       " ('7', 0.625),\n",
       " ('8', 0.625),\n",
       " ('5', 0.5),\n",
       " ('4', 0.5),\n",
       " ('9', 0.5)]"
      ]
     },
     "execution_count": 22,
     "metadata": {},
     "output_type": "execute_result"
    }
   ],
   "source": [
    "degCent = nx.degree_centrality(G)\n",
    "sorted(degCent.items() , key= lambda x: x[1] , reverse=True)"
   ]
  },
  {
   "cell_type": "markdown",
   "metadata": {
    "collapsed": true
   },
   "source": [
    "**Closeness Centrality**"
   ]
  },
  {
   "cell_type": "code",
   "execution_count": 23,
   "metadata": {},
   "outputs": [
    {
     "data": {
      "text/plain": [
       "[('5', 0.4444444444444444),\n",
       " ('1', 0.42105263157894735),\n",
       " ('6', 0.42105263157894735),\n",
       " ('2', 0.36363636363636365),\n",
       " ('3', 0.36363636363636365),\n",
       " ('7', 0.36363636363636365),\n",
       " ('8', 0.36363636363636365),\n",
       " ('4', 0.34782608695652173),\n",
       " ('9', 0.34782608695652173)]"
      ]
     },
     "execution_count": 23,
     "metadata": {},
     "output_type": "execute_result"
    }
   ],
   "source": [
    "closeCent = nx.closeness_centrality(G , normalized= True)\n",
    "sorted(closeCent.items() , key= lambda x: x[1] , reverse=True)"
   ]
  },
  {
   "cell_type": "markdown",
   "metadata": {},
   "source": [
    "## 2)\n",
    "**Betweenness Centrality**\n",
    "\n",
    "`Q`:Try to answer the following question without calculation: which node has the highest betweenness centrality? \n",
    "\n",
    "- Node 5 has the highest centrality because all shortest paths from {1, 2, 3, 4} to {6, 7, 8, 9} have to go through node 5. In other words, node 5 is a bridge. Hence node 5 lies on the most shortest paths in the network.\n",
    "\n"
   ]
  },
  {
   "cell_type": "code",
   "execution_count": 24,
   "metadata": {},
   "outputs": [
    {
     "data": {
      "text/plain": [
       "[('5', 0.5714285714285714),\n",
       " ('1', 0.5446428571428571),\n",
       " ('6', 0.5446428571428571),\n",
       " ('2', 0.21428571428571427),\n",
       " ('7', 0.21428571428571427),\n",
       " ('3', 0.008928571428571428),\n",
       " ('8', 0.008928571428571428),\n",
       " ('4', 0.0),\n",
       " ('9', 0.0)]"
      ]
     },
     "execution_count": 24,
     "metadata": {},
     "output_type": "execute_result"
    }
   ],
   "source": [
    "btwnCent = nx.betweenness_centrality(G, normalized=True , endpoints=False)\n",
    "sorted(btwnCent.items() , key= lambda x: x[1] , reverse=True)"
   ]
  },
  {
   "cell_type": "markdown",
   "metadata": {},
   "source": [
    "#### NOTE:\n",
    "- Then, come two and seven. And so, unlike closeness centrality, betweenness is able to capture the fact that actually two is in a kind of key position compared to three because if nodes one, five, six, seven, eight, and nine want to reach four, then they have to go through node two, not through node three.\n",
    "\n",
    "\n",
    "- So, betweenness comes out very similar to closeness but betweenness is able to capture those structural differences between nodes two and three, whereas, closeness centrality does not. "
   ]
  },
  {
   "cell_type": "markdown",
   "metadata": {},
   "source": [
    "## 3,4)\n",
    "**`Basic` & `Scaled` Page Rank**"
   ]
  },
  {
   "cell_type": "code",
   "execution_count": 25,
   "metadata": {},
   "outputs": [
    {
     "data": {
      "text/plain": [
       "[('1', 0.1624924244197534),\n",
       " ('6', 0.1624924244197534),\n",
       " ('5', 0.15221518761879843),\n",
       " ('2', 0.1086093364937095),\n",
       " ('7', 0.1086093364937095),\n",
       " ('3', 0.08021505931151808),\n",
       " ('8', 0.08021505931151808),\n",
       " ('4', 0.07257558596561971),\n",
       " ('9', 0.07257558596561971)]"
      ]
     },
     "execution_count": 25,
     "metadata": {},
     "output_type": "execute_result"
    }
   ],
   "source": [
    "scaled_page_rank = nx.pagerank(G, alpha=0.8)\n",
    "sorted(scaled_page_rank.items() , key= lambda x: x[1] , reverse=True)"
   ]
  },
  {
   "cell_type": "markdown",
   "metadata": {},
   "source": [
    "### NOTE:\n",
    "- And so, the nodes with the highest PageRank in this network are nodes one and six and then node five. So, unlike betweenness, which says that five is the most central node, PageRank has one and six and then five.\n",
    "\n",
    "\n",
    "- Now, why these may be? Well, if you notice, node five here gives all its PageRank to nodes one and six, whereas, nodes one and six give some of their PageRank to node five, but they also give to other nodes. So, this is part of the reason why node five comes second to one and six.\n",
    "\n",
    "\n",
    "- So, in this case, PageRank comes out very similar to betweenness but it flips the nodes one and six and five."
   ]
  },
  {
   "cell_type": "markdown",
   "metadata": {},
   "source": [
    "## 5)\n",
    "**Hubs and Authorities**"
   ]
  },
  {
   "cell_type": "code",
   "execution_count": 26,
   "metadata": {},
   "outputs": [
    {
     "data": {
      "text/plain": [
       "[('1', 0.21121135254127466),\n",
       " ('6', 0.21121135254127466),\n",
       " ('9', 0.11077926439430932),\n",
       " ('4', 0.1107792643943093),\n",
       " ('3', 0.10043208814696536),\n",
       " ('8', 0.10043208814696536),\n",
       " ('7', 0.0652811600977279),\n",
       " ('2', 0.06528116009772789),\n",
       " ('5', 0.02459226963944558)]"
      ]
     },
     "execution_count": 26,
     "metadata": {},
     "output_type": "execute_result"
    }
   ],
   "source": [
    "Auth = nx.hits(G)[1]\n",
    "sorted(Auth.items() , key= lambda x: x[1] , reverse=True)"
   ]
  },
  {
   "cell_type": "code",
   "execution_count": 27,
   "metadata": {},
   "outputs": [
    {
     "data": {
      "text/plain": [
       "[('5', 0.1484870508510458),\n",
       " ('2', 0.1484870508510458),\n",
       " ('7', 0.1484870508510458),\n",
       " ('3', 0.13613104446713567),\n",
       " ('8', 0.13613104446713567),\n",
       " ('4', 0.1095467049192504),\n",
       " ('9', 0.1095467049192504),\n",
       " ('1', 0.03159167433704516),\n",
       " ('6', 0.03159167433704516)]"
      ]
     },
     "execution_count": 27,
     "metadata": {},
     "output_type": "execute_result"
    }
   ],
   "source": [
    "Hub = nx.hits(G)[0]\n",
    "sorted(Hub.items() , key= lambda x: x[1] , reverse=True)"
   ]
  },
  {
   "cell_type": "markdown",
   "metadata": {},
   "source": [
    "So, the node with the lowest authority score here is five even though for many of the other centrality measures, it had a very high centrality.\n",
    "\n",
    "So, `why may this be the case?`\n",
    "\n",
    "- If you remember, the HITS algorithm gives every node an authority score and a hub score. And so, in order to kind of understand what the HITS algorithm is saying, you have to kind of look at those scores together. And so, what happens is that, when you look at the hub scores of this network, two, five, and seven which were the nodes that we're kind of wondering why they wouldn't have high centrality, high authority.\n",
    "\n",
    "\n",
    "- its because they have high hub score. So the way that the HITS algorithm analyzes a network is that, it says that the authorities are one and six and two, five, and seven are the nodes with a very high hub score. So, to interpret the scores, you really have to take them together. "
   ]
  },
  {
   "cell_type": "markdown",
   "metadata": {
    "collapsed": true
   },
   "source": [
    "# QUIZ 3.\n",
    "![quiz_Q1](quiz_Q1.png)"
   ]
  },
  {
   "cell_type": "code",
   "execution_count": 28,
   "metadata": {},
   "outputs": [
    {
     "data": {
      "text/plain": [
       "{'A': 0.3333333333333333,\n",
       " 'B': 0.3333333333333333,\n",
       " 'C': 0.5,\n",
       " 'D': 0.6666666666666666,\n",
       " 'E': 0.5,\n",
       " 'F': 0.16666666666666666,\n",
       " 'G': 0.5}"
      ]
     },
     "execution_count": 28,
     "metadata": {},
     "output_type": "execute_result"
    }
   ],
   "source": [
    "# 1\n",
    "G = nx.Graph()\n",
    "G.add_edges_from([('A', 'B'), ('C', 'A'), ('B', 'D'),('C','E'), \n",
    "                  ('D', 'E'),('D', 'G'), ('C', 'D'),('E', 'G'),\n",
    "                  ('G', 'F')])\n",
    "degCent = nx.degree_centrality(G)\n",
    "degCent"
   ]
  },
  {
   "cell_type": "markdown",
   "metadata": {},
   "source": [
    "![quiz_Q2](quiz_Q2.png)"
   ]
  },
  {
   "cell_type": "code",
   "execution_count": 29,
   "metadata": {},
   "outputs": [
    {
     "name": "stdout",
     "output_type": "stream",
     "text": [
      "{'G': 0, 'D': 1, 'E': 1, 'F': 1, 'B': 2, 'C': 2, 'A': 3}\n",
      "10\n",
      "0.6\n"
     ]
    },
    {
     "data": {
      "text/plain": [
       "{'A': 0.46153846153846156,\n",
       " 'B': 0.5454545454545454,\n",
       " 'C': 0.6,\n",
       " 'D': 0.75,\n",
       " 'E': 0.6666666666666666,\n",
       " 'F': 0.4,\n",
       " 'G': 0.6}"
      ]
     },
     "execution_count": 29,
     "metadata": {},
     "output_type": "execute_result"
    }
   ],
   "source": [
    "# 2\n",
    "closeCent = nx.closeness_centrality(G)\n",
    "print(nx.shortest_path_length(G,'G'))\n",
    "print(sum(nx.shortest_path_length(G,'G').values()))\n",
    "print((7-1)/sum(nx.shortest_path_length(G,'G').values()))\n",
    "closeCent"
   ]
  },
  {
   "cell_type": "code",
   "execution_count": 30,
   "metadata": {},
   "outputs": [
    {
     "data": {
      "text/plain": [
       "{'A': 0.03333333333333333,\n",
       " 'B': 0.07777777777777777,\n",
       " 'C': 0.18888888888888888,\n",
       " 'D': 0.38888888888888884,\n",
       " 'E': 0.1111111111111111,\n",
       " 'F': 0.0,\n",
       " 'G': 0.3333333333333333}"
      ]
     },
     "execution_count": 30,
     "metadata": {},
     "output_type": "execute_result"
    }
   ],
   "source": [
    "# 3\n",
    "btwnCent = nx.betweenness_centrality(G, normalized=True , endpoints=False)\n",
    "btwnCent"
   ]
  },
  {
   "cell_type": "code",
   "execution_count": 31,
   "metadata": {},
   "outputs": [
    {
     "data": {
      "text/plain": [
       "{('A', 'B'): 2.666666666666666,\n",
       " ('A', 'C'): 4.333333333333333,\n",
       " ('B', 'D'): 5.666666666666667,\n",
       " ('C', 'D'): 3.666666666666666,\n",
       " ('C', 'E'): 3.666666666666666,\n",
       " ('D', 'E'): 2.0,\n",
       " ('D', 'G'): 6.333333333333333,\n",
       " ('E', 'G'): 3.6666666666666665,\n",
       " ('G', 'F'): 6.0}"
      ]
     },
     "execution_count": 31,
     "metadata": {},
     "output_type": "execute_result"
    }
   ],
   "source": [
    "# 4\n",
    "btwnCent_edge = nx.edge_betweenness_centrality(G, normalized=False)\n",
    "btwnCent_edge"
   ]
  },
  {
   "cell_type": "markdown",
   "metadata": {},
   "source": [
    "![quiz_Q5](quiz_Q5.png)\n",
    "![quiz_Q6](quiz_Q6.png)\n",
    "![quiz_Q7](quiz_Q7.png)"
   ]
  },
  {
   "cell_type": "code",
   "execution_count": 32,
   "metadata": {},
   "outputs": [
    {
     "data": {
      "text/plain": [
       "{'A': 0.04442211856731087,\n",
       " 'B': 0.03360050631947267,\n",
       " 'C': 0.46639949368052747,\n",
       " 'D': 0.4555778814326893}"
      ]
     },
     "execution_count": 32,
     "metadata": {},
     "output_type": "execute_result"
    }
   ],
   "source": [
    "# 7\n",
    "G = nx.DiGraph()\n",
    "G.add_edges_from([('A', 'B'), ('B', 'A'), ('A', 'C'),\n",
    "                  ('C', 'D'), ('D', 'C')])\n",
    "scaled_page_rank = nx.pagerank(G, alpha=0.95)\n",
    "scaled_page_rank"
   ]
  },
  {
   "cell_type": "markdown",
   "metadata": {},
   "source": [
    "![quiz_Q8](quiz_Q8.png)"
   ]
  },
  {
   "cell_type": "code",
   "execution_count": 33,
   "metadata": {},
   "outputs": [
    {
     "data": {
      "text/plain": [
       "{'A': 0.372526246091333,\n",
       " 'B': 0.19582365458881654,\n",
       " 'C': 0.39415009931985023,\n",
       " 'D': 0.037500000000000006}"
      ]
     },
     "execution_count": 33,
     "metadata": {},
     "output_type": "execute_result"
    }
   ],
   "source": [
    "# 8\n",
    "G = nx.DiGraph()\n",
    "G.add_edges_from([('A', 'B'), ('A', 'C'), ('B', 'C'),\n",
    "                  ('C', 'A'), ('D', 'C')])\n",
    "\n",
    "basic_page_rank = nx.pagerank(G)\n",
    "basic_page_rank"
   ]
  },
  {
   "cell_type": "markdown",
   "metadata": {},
   "source": [
    "![quiz_Q9](quiz_Q9.png)"
   ]
  },
  {
   "cell_type": "code",
   "execution_count": 34,
   "metadata": {},
   "outputs": [
    {
     "name": "stdout",
     "output_type": "stream",
     "text": [
      "{'A': 0.41421356195612885, 'B': 0.2928932185186695, 'C': 1.0065322483445805e-09, 'D': 0.2928932185186695}\n",
      "{'A': 2.429983801460681e-09, 'B': 0.29289321810158986, 'C': 0.7071067794684264, 'D': 0.0}\n"
     ]
    }
   ],
   "source": [
    "# 9\n",
    "# Hubs score:\n",
    "print(nx.hits(G )[0])\n",
    "# Authority score:\n",
    "print(nx.hits(G)[1])"
   ]
  },
  {
   "cell_type": "markdown",
   "metadata": {
    "collapsed": true
   },
   "source": [
    "![quiz_Q10](quiz_Q10.png)"
   ]
  },
  {
   "cell_type": "markdown",
   "metadata": {
    "collapsed": true
   },
   "source": [
    "**In a social media network such as Twitter, where the users are nodes and following relationships are directed edges.**\n",
    "\n",
    "Q :`who are likely examples of nodes that have high PageRank but low indegree-centrality` and `why`?\n",
    "\n",
    "\n",
    "A : Someone who is followed by someone who has a high page rank or high centrality:\n",
    "\n",
    "- An example would be an actor that everyone follows, follows a cousin of his, that no one follows, but if this actor who has a high page rank follows him, the cousin would have a high page rank.\n"
   ]
  },
  {
   "cell_type": "code",
   "execution_count": null,
   "metadata": {},
   "outputs": [],
   "source": []
  }
 ],
 "metadata": {
  "kernelspec": {
   "display_name": "Python 3",
   "language": "python",
   "name": "python3"
  },
  "language_info": {
   "codemirror_mode": {
    "name": "ipython",
    "version": 3
   },
   "file_extension": ".py",
   "mimetype": "text/x-python",
   "name": "python",
   "nbconvert_exporter": "python",
   "pygments_lexer": "ipython3",
   "version": "3.8.3"
  }
 },
 "nbformat": 4,
 "nbformat_minor": 2
}
