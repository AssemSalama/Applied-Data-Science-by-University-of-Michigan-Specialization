{
 "cells": [
  {
   "cell_type": "markdown",
   "metadata": {},
   "source": [
    "**In `Module Two`:**\n",
    "\n",
    "**you will learn about how to analyze the connectivity of a network based on measures of distance, reachability, and redundancy of paths between nodes. This type of analysis will allow you explore the robustness of a network when it is exposed to random or targeted attacks such as the removal of nodes and edges. In the assignment, you will practice using NetworkX to compute measures of connectivity of a network of email communication among the employees of a mid-size manufacturing company.**"
   ]
  },
  {
   "cell_type": "markdown",
   "metadata": {},
   "source": [
    "# 1: Clustering Coefficient\n",
    "![1](1.png)\n",
    "**Another way for refering to Triadic Closure is `Clustering`**\n",
    "![2](2.png)\n",
    "![3](3.png)\n",
    "![4](4.png)\n",
    "![5](5.png)\n",
    "![6](6.png)"
   ]
  },
  {
   "cell_type": "markdown",
   "metadata": {},
   "source": [
    "![7](7.png)\n",
    "![8](8.png)\n",
    "![9](9.png)\n",
    "![10](10.png)"
   ]
  },
  {
   "cell_type": "markdown",
   "metadata": {},
   "source": [
    "# 2: Distance Measures.\n",
    "![11](11.png)\n",
    "![12](12.png)\n",
    "![13](13.png)\n",
    "![14](14.png)\n",
    "![15](15.png)\n",
    "![16](16.png)\n",
    "![17](17.png)\n",
    "![18](18.png)\n",
    "![19](19.png)\n",
    "![20](20.png)\n",
    "![21](21.png)"
   ]
  },
  {
   "cell_type": "markdown",
   "metadata": {},
   "source": [
    "**Why is `34`not showing up in the center?**\n",
    "\n",
    "- Well, it turns out that if you look carefully, node 34 has a distance four to node 17, right? To get from 34 to 17, you have to go 34, 32, 16, and 17, and so, it couldn't be in the center because the radius of the graph is three and this one has a node that is the distance four away from it.\n",
    "\n",
    "\n",
    "- Now, it turns out that actually if this node 17 was just a bit closer, for example, if this node 17 was a distance three away from 34, then 34 would actually be in the center, because 34 is a distance at most three to every other node in the network.\n",
    "\n",
    "\n",
    "- And so, this shows that this definition of center is pretty sensitive to just one node that happens to be far away, right? So, if you make a very small change to a graph that makes a particular node far further away from the other, you can sort of make it or break it for the node to be in the center or not. And in the future, we'll look at other measures of centrality for nodes that are less sensitive to small changes like that.\n",
    "![22](22.png)"
   ]
  },
  {
   "cell_type": "markdown",
   "metadata": {},
   "source": [
    "# 3: Connected Components.\n",
    "![29](29.png)\n",
    "![23](23.png)\n",
    "![24](24.png)\n",
    "![25](25.png)\n",
    "![26](26.png)\n",
    "![27](27.png)\n",
    "![28](28.png)\n",
    "![30](30.png)\n",
    "![31](31.png)"
   ]
  },
  {
   "cell_type": "markdown",
   "metadata": {},
   "source": [
    "![32](32.png)\n",
    "The network is not strongly connected since some pairs of nodes do not have a path connecting them. For example, there is no path from node C to node D. However, the network is weakly connected because replacing all directed edges with undirected edges produces a connected undirected graph.\n",
    "![33](33.png)"
   ]
  },
  {
   "cell_type": "markdown",
   "metadata": {},
   "source": [
    "# 4: Network Robustness.\n",
    "![34](34.png)\n",
    "One example:\n",
    "- the air transportation network, where the nodes are airports and the edges are connections between airports. Well, sometimes airports have to close down for many different reasons. And when this happens of course, transportation is affected. And so you would like for the transportation network to be robust to closures of airports, so that the general connectivity or the general function of the network is still maintained even after it might have lost one particular airport.\n",
    "- Or maybe it's not an airport, maybe it's a connection between an airport or some other airport. Maybe both airports are open but they're not able to fly to each other for whatever reason. That is the case where the network might have lost an edge rather than a node, and you would like for the network to still maintain its connectivity or functions.\n",
    "![35](35.png)\n",
    "- So you can see that if you were to remove node A, then this graph goes from being connected to being disconnected. So now there are two subsets of nodes that cannot reach each other, and in the airport example this would be really bad, right? If one airport was responsible for connecting two major parts of the world, that's something you probably wouldn't want to have.\n",
    "![36](36.png)\n",
    "![37](37.png)\n",
    "![38](38.png)\n",
    "![39](39.png)\n",
    "![40](40.png)\n",
    "![41](41.png)"
   ]
  },
  {
   "cell_type": "markdown",
   "metadata": {},
   "source": [
    "# 5 : `TA Demonstration` : Simple Network Visualizations in NetworkX.\n",
    "\n",
    "**It has a seperate notebook**"
   ]
  },
  {
   "cell_type": "code",
   "execution_count": null,
   "metadata": {},
   "outputs": [],
   "source": []
  }
 ],
 "metadata": {
  "kernelspec": {
   "display_name": "Python 3",
   "language": "python",
   "name": "python3"
  },
  "language_info": {
   "codemirror_mode": {
    "name": "ipython",
    "version": 3
   },
   "file_extension": ".py",
   "mimetype": "text/x-python",
   "name": "python",
   "nbconvert_exporter": "python",
   "pygments_lexer": "ipython3",
   "version": "3.8.3"
  }
 },
 "nbformat": 4,
 "nbformat_minor": 4
}
