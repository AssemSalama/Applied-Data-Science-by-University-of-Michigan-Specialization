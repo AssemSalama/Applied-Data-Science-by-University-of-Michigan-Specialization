{
 "cells": [
  {
   "cell_type": "markdown",
   "metadata": {},
   "source": [
    "**`Module One`: introduces you to different types of networks in the real world and why we study them. You will cover the basic elements of networks such as nodes, edges, and attributes and different types of networks such as directed, undirected, weighted, signed, and bipartite. You will also learn how to represent and manipulate networked data using the NetworkX library. The assignment will give you an opportunity to use NetworkX to analyze a networked dataset of employees in a small company, their relationships, and preferences of movies to watch for an upcoming movie night.**"
   ]
  },
  {
   "cell_type": "markdown",
   "metadata": {},
   "source": [
    "# 1) Networks: Definition and Why We Study Them.\n",
    "![1](1.png)\n",
    "![2](2.png)\n",
    "![3](3.png)\n",
    "![4](4.png)\n",
    "![5](5.png)\n",
    "![6](6.png)"
   ]
  },
  {
   "cell_type": "markdown",
   "metadata": {},
   "source": [
    "![7](7.png)\n",
    "- The kinds of questions that we can answer by looking at the structure of the network are things like, if there's a rumor that starts in some part of the network, is it likely to spread through the whole network?\n",
    "\n",
    "- And who are the most influential people in this organization? Is the rumor that's starting on say, some node that's sort of like on the outskirts of the network more or less likely to be spread than if it were to be started by somebody who's more central to the network, like someone around this area? These are the kinds of things that we can start to analyze and understand by looking at the structures of a network.\n",
    "\n",
    "![8](8.png)\n",
    "![9](9.png)\n",
    "![10](10.png)"
   ]
  },
  {
   "cell_type": "markdown",
   "metadata": {},
   "source": [
    "# 2) Network Definition and Vocabulary.\n",
    "![11](11.png)"
   ]
  },
  {
   "cell_type": "code",
   "execution_count": 2,
   "metadata": {},
   "outputs": [
    {
     "data": {
      "text/plain": [
       "<networkx.classes.graph.Graph at 0x190a2960430>"
      ]
     },
     "execution_count": 2,
     "metadata": {},
     "output_type": "execute_result"
    }
   ],
   "source": [
    "import networkx as nx\n",
    "G = nx.Graph()\n",
    "G.add_edge('A','B')\n",
    "G.add_edge('B','C')\n",
    "G"
   ]
  },
  {
   "cell_type": "markdown",
   "metadata": {},
   "source": [
    "![12](12.png)\n",
    "![13](13.png)\n",
    "![14](14.png)\n",
    "![15](15.png)\n",
    "![16](16.png)\n",
    "![17](17.png)\n",
    "![18](18.png)\n",
    "![19](19.png)"
   ]
  },
  {
   "cell_type": "markdown",
   "metadata": {},
   "source": [
    "# 3) Node and Edge Attributes.\n",
    "![20](20.png)"
   ]
  },
  {
   "cell_type": "code",
   "execution_count": 96,
   "metadata": {},
   "outputs": [],
   "source": [
    "G = nx.Graph()\n",
    "G.add_edge('A','B',weight= 6 , relation='family')\n",
    "G.add_edge('B','C',weight= 13 , relation='friend')"
   ]
  },
  {
   "cell_type": "code",
   "execution_count": 97,
   "metadata": {},
   "outputs": [
    {
     "name": "stdout",
     "output_type": "stream",
     "text": [
      "[('A', 'B'), ('B', 'C')]\n",
      "\n",
      " [('A', 'B', {'weight': 6, 'relation': 'family'}), ('B', 'C', {'weight': 13, 'relation': 'friend'})]\n",
      "\n",
      " [('A', 'B', 'family'), ('B', 'C', 'friend')]\n"
     ]
    }
   ],
   "source": [
    "# Now, the Q is how can we access these info in the network we just created?\n",
    "\n",
    "# list of all edges:\n",
    "print(G.edges())\n",
    "\n",
    "# list of all edges with attributes\n",
    "print('\\n',G.edges(data=True))\n",
    "\n",
    "# list of all edges with attribute `relation`.\n",
    "print('\\n',G.edges(data='relation'))"
   ]
  },
  {
   "cell_type": "markdown",
   "metadata": {},
   "source": [
    "![21](21.png)"
   ]
  },
  {
   "cell_type": "code",
   "execution_count": 98,
   "metadata": {},
   "outputs": [
    {
     "name": "stdout",
     "output_type": "stream",
     "text": [
      "{'weight': 6, 'relation': 'family'}\n",
      "\n",
      " 13\n",
      "\n",
      " 13\n"
     ]
    }
   ],
   "source": [
    "print(G.edges['A','B'])\n",
    "print('\\n',G.edges['B','C']['weight'])\n",
    "\n",
    "# undirected graphs order doesn't matter:\n",
    "print('\\n',G.edges['C','B']['weight'])"
   ]
  },
  {
   "cell_type": "markdown",
   "metadata": {},
   "source": [
    "![22](22.png)"
   ]
  },
  {
   "cell_type": "code",
   "execution_count": 99,
   "metadata": {},
   "outputs": [
    {
     "name": "stdout",
     "output_type": "stream",
     "text": [
      "13\n"
     ]
    }
   ],
   "source": [
    "G = nx.DiGraph()\n",
    "G.add_edge('A','B',weight=6,relation='family')\n",
    "G.add_edge('C','B',weight=13,relation='friend')\n",
    "\n",
    "# accessing edge attributes:\n",
    "print(G.edges['C','B']['weight'])"
   ]
  },
  {
   "cell_type": "markdown",
   "metadata": {},
   "source": [
    "![23](23.png)"
   ]
  },
  {
   "cell_type": "code",
   "execution_count": 100,
   "metadata": {},
   "outputs": [
    {
     "name": "stdout",
     "output_type": "stream",
     "text": [
      "{'weight': 6, 'relation': 'family'}\n",
      "6\n",
      "{'weight': 18, 'relation': 'friend'}\n",
      "\n",
      " 13\n",
      "{'weight': 13, 'relation': 'friend'}\n"
     ]
    }
   ],
   "source": [
    "G = nx.MultiGraph()\n",
    "G.add_edge('A','B',weight=6 ,relation='family')\n",
    "G.add_edge('A','B',weight=18 ,relation='friend')\n",
    "G.add_edge('C','B',weight=13 ,relation='friend')\n",
    "\n",
    "# Accessing edge attributes:\n",
    "print(G.edges['A','B',0])\n",
    "print(G.edges['A','B',0]['weight'])\n",
    "print(G.edges['A','B',1])\n",
    "\n",
    "# undirected graph order doesn't matter.\n",
    "print('\\n',G.edges['C','B',0]['weight'])\n",
    "print(G.edges['B','C',0])"
   ]
  },
  {
   "cell_type": "markdown",
   "metadata": {},
   "source": [
    "![24](24.png)"
   ]
  },
  {
   "cell_type": "code",
   "execution_count": 101,
   "metadata": {},
   "outputs": [
    {
     "name": "stdout",
     "output_type": "stream",
     "text": [
      "\n",
      " 18\n",
      "[('A', 'B', 'family'), ('A', 'B', 'friend'), ('C', 'B', 'friend')]\n"
     ]
    },
    {
     "data": {
      "text/plain": [
       "[('A', 'B', {'weight': 6, 'relation': 'family'}),\n",
       " ('A', 'B', {'weight': 18, 'relation': 'friend'}),\n",
       " ('C', 'B', {'weight': 13, 'relation': 'friend'})]"
      ]
     },
     "execution_count": 101,
     "metadata": {},
     "output_type": "execute_result"
    }
   ],
   "source": [
    "G = nx.MultiDiGraph()\n",
    "G.add_edge('A','B',weight= 6 , relation='family')\n",
    "G.add_edge('A','B',weight= 18 , relation='friend')\n",
    "G.add_edge('C','B',weight= 13 , relation='friend')\n",
    "\n",
    "\n",
    "# here order does matter.\n",
    "# print(G.edges['B','C',0]['weight'])\n",
    "# KeyError: 'C'\n",
    "\n",
    "print('\\n',G.edges['A','B',1]['weight'])\n",
    "# from all the edges , we need only the relation:\n",
    "print(G.edges(data='relation'))\n",
    "\n",
    "list(G.edges(data=True))"
   ]
  },
  {
   "cell_type": "markdown",
   "metadata": {},
   "source": [
    "![25](25.png)\n",
    "![26](26.png)"
   ]
  },
  {
   "cell_type": "code",
   "execution_count": 102,
   "metadata": {},
   "outputs": [],
   "source": [
    "G = nx.Graph()\n",
    "G.add_edge('A','B',weight=6,relation='family')\n",
    "G.add_edge('B','C',weight=13,relation='friend')\n",
    "\n",
    "G.add_node('A',role='trader')\n",
    "G.add_node('B',role='trader')\n",
    "G.add_node('C',role='Manager')"
   ]
  },
  {
   "cell_type": "code",
   "execution_count": 103,
   "metadata": {},
   "outputs": [
    {
     "name": "stdout",
     "output_type": "stream",
     "text": [
      "['A', 'B', 'C']\n",
      "\n",
      " [('A', {'role': 'trader'}), ('B', {'role': 'trader'}), ('C', {'role': 'Manager'})]\n",
      "\n",
      " trader\n"
     ]
    }
   ],
   "source": [
    "print(list(G.nodes()))\n",
    "print('\\n',G.nodes(data=True))\n",
    "\n",
    "print('\\n', G.nodes['A']['role'])"
   ]
  },
  {
   "cell_type": "markdown",
   "metadata": {},
   "source": [
    "![27](27.png)"
   ]
  },
  {
   "cell_type": "markdown",
   "metadata": {},
   "source": [
    "# 4) Bipartite Graphs.\n",
    "![29](29.png)"
   ]
  },
  {
   "cell_type": "code",
   "execution_count": 120,
   "metadata": {},
   "outputs": [],
   "source": [
    "from networkx.algorithms import bipartite\n",
    "B = nx.Graph()\n",
    "\n",
    "B.add_nodes_from(['A','B','C','D','E'], bipartite=0)\n",
    "B.add_nodes_from([1,2,3,4], bipartite=1)\n",
    "B.add_edges_from([('A',1) , ('B',1) , ('C',1),('C',3),('D',2),('E',3),\n",
    "                   ('E',4)])"
   ]
  },
  {
   "cell_type": "markdown",
   "metadata": {},
   "source": [
    "![28](28.png)\n",
    "- Graph A is bipartite: the two sets of nodes are {A,B,C} and {E,G,F}. All edge connect a node in one set to a node in the other set. Graph B is not bipartite: note that nodes C, B, and F form a triangle, so it is not possible to assign each of these nodes to a side without having edges connecting nodes that were assigned to the same side. In fact, for the same reason, a bipartite graph cannot contain a cycle of an odd number of nodes."
   ]
  },
  {
   "cell_type": "markdown",
   "metadata": {},
   "source": [
    "**what kind of things we can do using Bipartite graph**:\n",
    "![30](30.png)"
   ]
  },
  {
   "cell_type": "code",
   "execution_count": 121,
   "metadata": {},
   "outputs": [
    {
     "name": "stdout",
     "output_type": "stream",
     "text": [
      "True\n",
      "False\n",
      "True\n"
     ]
    }
   ],
   "source": [
    "# 1: chexk if B is bipartite\n",
    "print(bipartite.is_bipartite(B))\n",
    "\n",
    "# Now,let's break the role by adding an edge between\n",
    "# one of the separated sets ,then check:\n",
    "B.add_edge('A','B')\n",
    "print(bipartite.is_bipartite(B))\n",
    "\n",
    "# lets remove this edge to keep it Bipartite:\n",
    "B.remove_edge('A','B')\n",
    "print(bipartite.is_bipartite(B))"
   ]
  },
  {
   "cell_type": "markdown",
   "metadata": {},
   "source": [
    "![31](31.png)"
   ]
  },
  {
   "cell_type": "code",
   "execution_count": 124,
   "metadata": {},
   "outputs": [
    {
     "name": "stdout",
     "output_type": "stream",
     "text": [
      "True\n",
      "True\n",
      "False\n"
     ]
    }
   ],
   "source": [
    "X = set([1,2,3,4])\n",
    "print(bipartite.is_bipartite_node_set(B,X))\n",
    "\n",
    "X = set(['A','B','C','D','E'])\n",
    "print(bipartite.is_bipartite_node_set(B,X))\n",
    "\n",
    "X = set([1,2,3,4 ,'A'])\n",
    "print(bipartite.is_bipartite_node_set(B,X))\n",
    "\n",
    "# because it's not true that all the edges go from this set 1, 2, 3, 4, A,\n",
    "# through the rest of the nodes, and so this would be false."
   ]
  },
  {
   "cell_type": "markdown",
   "metadata": {},
   "source": [
    "![32](32.png)"
   ]
  },
  {
   "cell_type": "code",
   "execution_count": null,
   "metadata": {},
   "outputs": [],
   "source": [
    "bipartite.sets(B)\n",
    "\n",
    "# AmbiguousSolution: Disconnected graph: Ambiguous solution for bipartite\n",
    "# sets."
   ]
  },
  {
   "cell_type": "markdown",
   "metadata": {},
   "source": [
    "# Because of the changes in the networkX libararies between differnt python virsions.\n",
    "## I decided to complete this course on Coursera Jupyter notebook version in terms of code writing and all the slides will be uploaded here.\n",
    "### See you there."
   ]
  },
  {
   "cell_type": "markdown",
   "metadata": {},
   "source": [
    "![33](33.png)\n",
    "![34](34.png)\n",
    "![35](35.png)\n",
    "![36](36.png)\n",
    "![37](37.png)"
   ]
  },
  {
   "cell_type": "markdown",
   "metadata": {},
   "source": [
    "# 5) Loading Graphs in NetworkX.\n",
    "- this topic has a separate notebook with the same name."
   ]
  },
  {
   "cell_type": "code",
   "execution_count": null,
   "metadata": {},
   "outputs": [],
   "source": []
  }
 ],
 "metadata": {
  "kernelspec": {
   "display_name": "Python 3",
   "language": "python",
   "name": "python3"
  },
  "language_info": {
   "codemirror_mode": {
    "name": "ipython",
    "version": 3
   },
   "file_extension": ".py",
   "mimetype": "text/x-python",
   "name": "python",
   "nbconvert_exporter": "python",
   "pygments_lexer": "ipython3",
   "version": "3.8.3"
  }
 },
 "nbformat": 4,
 "nbformat_minor": 4
}
