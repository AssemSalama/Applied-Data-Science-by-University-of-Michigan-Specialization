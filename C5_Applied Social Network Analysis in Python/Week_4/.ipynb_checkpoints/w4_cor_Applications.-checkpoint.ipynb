{
 "cells": [
  {
   "cell_type": "markdown",
   "metadata": {},
   "source": [
    "# 1: Preferential Attachment Model.\n",
    "**- UNdirected Graph**"
   ]
  },
  {
   "cell_type": "code",
   "execution_count": 25,
   "metadata": {
    "collapsed": true
   },
   "outputs": [],
   "source": [
    "import networkx as nx\n",
    "\n",
    "G = nx.Graph()\n",
    "G.add_edges_from([('A', 'B'),('A','H'),('A','G'), ('B', 'C'), ('C', 'E'),\n",
    "                  ('C', 'D'), ('D', 'F'),('F', 'G'), ('F', 'I'), ('G', 'I'),\n",
    "                  ('G', 'H')])"
   ]
  },
  {
   "cell_type": "code",
   "execution_count": 26,
   "metadata": {},
   "outputs": [
    {
     "data": {
      "text/plain": [
       "{'A': 3, 'B': 2, 'C': 3, 'D': 2, 'E': 1, 'F': 3, 'G': 4, 'H': 2, 'I': 2}"
      ]
     },
     "execution_count": 26,
     "metadata": {},
     "output_type": "execute_result"
    }
   ],
   "source": [
    "degrees = G.degree()\n",
    "degrees"
   ]
  },
  {
   "cell_type": "code",
   "execution_count": 27,
   "metadata": {},
   "outputs": [
    {
     "name": "stdout",
     "output_type": "stream",
     "text": [
      "{1, 2, 3, 4}\n"
     ]
    },
    {
     "data": {
      "text/plain": [
       "[1, 2, 3, 4]"
      ]
     },
     "execution_count": 27,
     "metadata": {},
     "output_type": "execute_result"
    }
   ],
   "source": [
    "# keep in mind : The elements in the set cannot be duplicates. \n",
    "print(set(degrees.values()))\n",
    "degree_values = sorted(set(degrees.values()))\n",
    "degree_values"
   ]
  },
  {
   "cell_type": "code",
   "execution_count": 28,
   "metadata": {},
   "outputs": [
    {
     "data": {
      "text/plain": [
       "[0.1111111111111111,\n",
       " 0.4444444444444444,\n",
       " 0.3333333333333333,\n",
       " 0.1111111111111111]"
      ]
     },
     "execution_count": 28,
     "metadata": {},
     "output_type": "execute_result"
    }
   ],
   "source": [
    "histogram = [list(degrees.values()).count(i) / nx.number_of_nodes(G) for i in degree_values]\n",
    "histogram"
   ]
  },
  {
   "cell_type": "code",
   "execution_count": 29,
   "metadata": {},
   "outputs": [
    {
     "data": {
      "image/png": "[encoded data removed]",
      "text/plain": [
       "<matplotlib.figure.Figure at 0x7f891babf588>"
      ]
     },
     "metadata": {},
     "output_type": "display_data"
    }
   ],
   "source": [
    "import matplotlib.pyplot as plt\n",
    "plt.bar(degree_values , histogram)\n",
    "plt.xlabel('Degree')\n",
    "plt.ylabel('Fraction of Nodes')\n",
    "plt.show()"
   ]
  },
  {
   "cell_type": "markdown",
   "metadata": {
    "collapsed": true
   },
   "source": [
    "**- Directed Graph**"
   ]
  },
  {
   "cell_type": "code",
   "execution_count": 30,
   "metadata": {},
   "outputs": [
    {
     "data": {
      "image/png": "[encoded data removed]",
      "text/plain": [
       "<matplotlib.figure.Figure at 0x7f891badbe80>"
      ]
     },
     "metadata": {},
     "output_type": "display_data"
    }
   ],
   "source": [
    "G = nx.DiGraph()\n",
    "G.add_edges_from([('B', 'A'),('C','B'),('D','C'), ('E', 'C'), ('F', 'D'),\n",
    "                  ('F', 'I'), ('G', 'F'),('G', 'A'), ('H', 'G'), ('H', 'A'),\n",
    "                  ('G','I')])\n",
    "\n",
    "in_degrees = G.in_degree()\n",
    "in_degree_values = sorted(set(in_degrees.values()))\n",
    "histogram = [list(in_degrees.values()).count(i) / nx.number_of_nodes(G) for i in in_degree_values]\n",
    "\n",
    "import matplotlib.pyplot as plt\n",
    "plt.bar(in_degree_values , histogram)\n",
    "plt.xlabel('in Degree')\n",
    "plt.ylabel('Fraction of Nodes')\n",
    "plt.show()"
   ]
  },
  {
   "cell_type": "markdown",
   "metadata": {},
   "source": [
    "**- Preferential Attachment Model IN NetworkX**"
   ]
  },
  {
   "cell_type": "code",
   "execution_count": 31,
   "metadata": {},
   "outputs": [
    {
     "data": {
      "image/png": "[encoded data removed]",
      "text/plain": [
       "<matplotlib.figure.Figure at 0x7f899c9ca6d8>"
      ]
     },
     "metadata": {},
     "output_type": "display_data"
    }
   ],
   "source": [
    "G = nx.barabasi_albert_graph(1000000,1)\n",
    "\n",
    "degrees = G.degree()\n",
    "degree_values = sorted(set(degrees.values()))\n",
    "histogram = [list(degrees.values()).count(i) / nx.number_of_nodes(G) for i in degree_values]\n",
    "\n",
    "import matplotlib.pyplot as plt\n",
    "plt.plot(degree_values , histogram , 'o')\n",
    "plt.xlabel('Degree')\n",
    "plt.ylabel('Fraction of Nodes')\n",
    "plt.xscale('log')\n",
    "plt.yscale('log')\n",
    "plt.show()"
   ]
  },
  {
   "cell_type": "markdown",
   "metadata": {
    "collapsed": true
   },
   "source": [
    "# 2: Small World Networks."
   ]
  },
  {
   "cell_type": "code",
   "execution_count": 32,
   "metadata": {},
   "outputs": [
    {
     "data": {
      "image/png": "[encoded data removed]",
      "text/plain": [
       "<matplotlib.figure.Figure at 0x7f88aac5ae48>"
      ]
     },
     "metadata": {},
     "output_type": "display_data"
    }
   ],
   "source": [
    "G = nx.watts_strogatz_graph(1000,6,0.04)\n",
    "\n",
    "degrees = G.degree()\n",
    "degree_values = sorted(set(degrees.values()))\n",
    "histogram = [list(degrees.values()).count(i) / nx.number_of_nodes(G) for i in degree_values]\n",
    "\n",
    "import matplotlib.pyplot as plt\n",
    "plt.bar(degree_values , histogram)\n",
    "plt.xlabel('Degree')\n",
    "plt.ylabel('Fraction of Nodes')\n",
    "plt.show()"
   ]
  },
  {
   "cell_type": "markdown",
   "metadata": {
    "collapsed": true
   },
   "source": [
    "`Q` : Is the degree distribution of small world network a power law distribution?\n",
    "\n",
    "`A` : The degree distribution of small world network is not a power law because the degree of most nodes lie in the middle."
   ]
  },
  {
   "cell_type": "markdown",
   "metadata": {
    "collapsed": true
   },
   "source": [
    "# 3: Link Prediction.\n",
    "- **`Measure_1` : Common Neighbors**"
   ]
  },
  {
   "cell_type": "code",
   "execution_count": 87,
   "metadata": {
    "collapsed": true
   },
   "outputs": [],
   "source": [
    "G = nx.Graph()\n",
    "G.add_edges_from([('A','B'),('A','D'),('A','E'), ('B','C'), ('B','D'),\n",
    "                  ('C','D'), ('E','F'),('E','G'), ('F','G'), ('F','C'),\n",
    "                  ('G','H') , ('G','I')])"
   ]
  },
  {
   "cell_type": "code",
   "execution_count": 88,
   "metadata": {},
   "outputs": [
    {
     "name": "stdout",
     "output_type": "stream",
     "text": [
      "('A', 'F')\n",
      "('A', 'G')\n",
      "('A', 'I')\n",
      "('A', 'C')\n",
      "('A', 'H')\n",
      "('D', 'F')\n",
      "('D', 'E')\n",
      "('D', 'G')\n",
      "('D', 'I')\n",
      "('D', 'H')\n",
      "('F', 'I')\n",
      "('F', 'H')\n",
      "('F', 'B')\n",
      "('E', 'I')\n",
      "('E', 'C')\n",
      "('E', 'H')\n",
      "('E', 'B')\n",
      "('B', 'I')\n",
      "('B', 'H')\n",
      "('B', 'G')\n",
      "('G', 'C')\n",
      "('I', 'C')\n",
      "('I', 'H')\n",
      "('C', 'H')\n"
     ]
    }
   ],
   "source": [
    "not_edges = nx.non_edges(G)\n",
    "# see what is the non connected edges in our Network:\n",
    "# 1. put them in list and display some.\n",
    "# print(list(not_edges)[:5])\n",
    "\n",
    "# 2. or display all of them \n",
    "for edge in not_edges :\n",
    "    print(edge)"
   ]
  },
  {
   "cell_type": "code",
   "execution_count": 89,
   "metadata": {},
   "outputs": [
    {
     "name": "stdout",
     "output_type": "stream",
     "text": [
      "2\n",
      "['B', 'D']\n"
     ]
    }
   ],
   "source": [
    "# Then find the common neighbors between each of these non connected nodes.\n",
    "A_F_neigh =list(nx.common_neighbors(G , 'A' , 'C')) \n",
    "\n",
    "print(len(A_F_neigh))\n",
    "print(A_F_neigh)"
   ]
  },
  {
   "cell_type": "code",
   "execution_count": 90,
   "metadata": {},
   "outputs": [
    {
     "data": {
      "text/plain": [
       "[('A', 'C', 2),\n",
       " ('A', 'F', 1),\n",
       " ('A', 'G', 1),\n",
       " ('D', 'F', 1),\n",
       " ('D', 'E', 1),\n",
       " ('F', 'I', 1),\n",
       " ('F', 'H', 1)]"
      ]
     },
     "execution_count": 90,
     "metadata": {},
     "output_type": "execute_result"
    }
   ],
   "source": [
    "not_edges = nx.non_edges(G)\n",
    "common_neigh = [(e[0] , e[1] , len(list(nx.common_neighbors(G,e[0],e[1]))))\n",
    "                   for e in not_edges]\n",
    "\n",
    "sorted(common_neigh , key=lambda x:x[2] , reverse=True)[:7]"
   ]
  },
  {
   "cell_type": "markdown",
   "metadata": {
    "collapsed": true
   },
   "source": [
    "- **`Measure_2` : Jaccard Coefficient**"
   ]
  },
  {
   "cell_type": "code",
   "execution_count": 91,
   "metadata": {},
   "outputs": [
    {
     "data": {
      "text/plain": [
       "[('I', 'H', 1.0),\n",
       " ('A', 'C', 0.5),\n",
       " ('F', 'I', 0.3333333333333333),\n",
       " ('F', 'H', 0.3333333333333333),\n",
       " ('E', 'I', 0.3333333333333333),\n",
       " ('E', 'H', 0.3333333333333333),\n",
       " ('A', 'F', 0.2),\n",
       " ('D', 'F', 0.2),\n",
       " ('D', 'E', 0.2),\n",
       " ('F', 'B', 0.2),\n",
       " ('E', 'C', 0.2),\n",
       " ('E', 'B', 0.2),\n",
       " ('A', 'G', 0.16666666666666666),\n",
       " ('G', 'C', 0.16666666666666666),\n",
       " ('A', 'I', 0.0),\n",
       " ('A', 'H', 0.0),\n",
       " ('D', 'G', 0.0),\n",
       " ('D', 'I', 0.0),\n",
       " ('D', 'H', 0.0),\n",
       " ('B', 'I', 0.0),\n",
       " ('B', 'H', 0.0),\n",
       " ('B', 'G', 0.0),\n",
       " ('I', 'C', 0.0),\n",
       " ('C', 'H', 0.0)]"
      ]
     },
     "execution_count": 91,
     "metadata": {},
     "output_type": "execute_result"
    }
   ],
   "source": [
    "# this func gives us Tuple has the non edges with its corresponding J_coff\n",
    "J_coffs = list(nx.jaccard_coefficient(G))\n",
    "sorted(J_coffs , key=lambda x:x[2] , reverse=True)"
   ]
  },
  {
   "cell_type": "markdown",
   "metadata": {
    "collapsed": true
   },
   "source": [
    "- **`Measure_3` : Resource Allocation**"
   ]
  },
  {
   "cell_type": "code",
   "execution_count": 92,
   "metadata": {},
   "outputs": [
    {
     "data": {
      "text/plain": [
       "[('A', 'C', 0.6666666666666666),\n",
       " ('A', 'F', 0.3333333333333333),\n",
       " ('A', 'G', 0.3333333333333333),\n",
       " ('D', 'F', 0.3333333333333333),\n",
       " ('D', 'E', 0.3333333333333333),\n",
       " ('F', 'B', 0.3333333333333333),\n",
       " ('E', 'C', 0.3333333333333333),\n",
       " ('E', 'B', 0.3333333333333333),\n",
       " ('G', 'C', 0.3333333333333333),\n",
       " ('F', 'I', 0.25),\n",
       " ('F', 'H', 0.25),\n",
       " ('E', 'I', 0.25),\n",
       " ('E', 'H', 0.25),\n",
       " ('I', 'H', 0.25),\n",
       " ('A', 'I', 0),\n",
       " ('A', 'H', 0),\n",
       " ('D', 'G', 0),\n",
       " ('D', 'I', 0),\n",
       " ('D', 'H', 0),\n",
       " ('B', 'I', 0),\n",
       " ('B', 'H', 0),\n",
       " ('B', 'G', 0),\n",
       " ('I', 'C', 0),\n",
       " ('C', 'H', 0)]"
      ]
     },
     "execution_count": 92,
     "metadata": {},
     "output_type": "execute_result"
    }
   ],
   "source": [
    "resource_allo = list(nx.resource_allocation_index(G))\n",
    "sorted(resource_allo , key=lambda x:x[2] , reverse=True)"
   ]
  },
  {
   "cell_type": "markdown",
   "metadata": {},
   "source": [
    "- **`Measure_4` : Adamic-Adar Index**"
   ]
  },
  {
   "cell_type": "code",
   "execution_count": 93,
   "metadata": {},
   "outputs": [
    {
     "data": {
      "text/plain": [
       "[('A', 'C', 1.8204784532536746),\n",
       " ('A', 'F', 0.9102392266268373),\n",
       " ('A', 'G', 0.9102392266268373),\n",
       " ('D', 'F', 0.9102392266268373),\n",
       " ('D', 'E', 0.9102392266268373),\n",
       " ('F', 'B', 0.9102392266268373),\n",
       " ('E', 'C', 0.9102392266268373),\n",
       " ('E', 'B', 0.9102392266268373),\n",
       " ('G', 'C', 0.9102392266268373),\n",
       " ('F', 'I', 0.7213475204444817),\n",
       " ('F', 'H', 0.7213475204444817),\n",
       " ('E', 'I', 0.7213475204444817),\n",
       " ('E', 'H', 0.7213475204444817),\n",
       " ('I', 'H', 0.7213475204444817),\n",
       " ('A', 'I', 0),\n",
       " ('A', 'H', 0),\n",
       " ('D', 'G', 0),\n",
       " ('D', 'I', 0),\n",
       " ('D', 'H', 0),\n",
       " ('B', 'I', 0),\n",
       " ('B', 'H', 0),\n",
       " ('B', 'G', 0),\n",
       " ('I', 'C', 0),\n",
       " ('C', 'H', 0)]"
      ]
     },
     "execution_count": 93,
     "metadata": {},
     "output_type": "execute_result"
    }
   ],
   "source": [
    "adami_adar = list(nx.adamic_adar_index(G))\n",
    "sorted(adami_adar , key=lambda x:x[2] , reverse=True)"
   ]
  },
  {
   "cell_type": "markdown",
   "metadata": {},
   "source": [
    "- **`Measure_5` : Pref.Attachment**"
   ]
  },
  {
   "cell_type": "code",
   "execution_count": 94,
   "metadata": {},
   "outputs": [
    {
     "data": {
      "text/plain": [
       "[('A', 'G', 12),\n",
       " ('D', 'G', 12),\n",
       " ('B', 'G', 12),\n",
       " ('G', 'C', 12),\n",
       " ('A', 'F', 9),\n",
       " ('A', 'C', 9),\n",
       " ('D', 'F', 9),\n",
       " ('D', 'E', 9),\n",
       " ('F', 'B', 9),\n",
       " ('E', 'C', 9),\n",
       " ('E', 'B', 9),\n",
       " ('A', 'I', 3),\n",
       " ('A', 'H', 3),\n",
       " ('D', 'I', 3),\n",
       " ('D', 'H', 3),\n",
       " ('F', 'I', 3),\n",
       " ('F', 'H', 3),\n",
       " ('E', 'I', 3),\n",
       " ('E', 'H', 3),\n",
       " ('B', 'I', 3),\n",
       " ('B', 'H', 3),\n",
       " ('I', 'C', 3),\n",
       " ('C', 'H', 3),\n",
       " ('I', 'H', 1)]"
      ]
     },
     "execution_count": 94,
     "metadata": {},
     "output_type": "execute_result"
    }
   ],
   "source": [
    "pref_attach = list(nx.preferential_attachment(G))\n",
    "sorted(pref_attach , key=lambda x:x[2] , reverse=True)"
   ]
  },
  {
   "cell_type": "markdown",
   "metadata": {
    "collapsed": true
   },
   "source": [
    "- **`Measure_6` : Community Common Neighbors**\n",
    "\n",
    "*First : we need to assign each node to its community*\n",
    "\n",
    "*Second : Apply the CCN Model*"
   ]
  },
  {
   "cell_type": "code",
   "execution_count": 95,
   "metadata": {
    "collapsed": true
   },
   "outputs": [],
   "source": [
    "G.node['A']['community']=0\n",
    "G.node['B']['community']=0\n",
    "G.node['C']['community']=0\n",
    "G.node['D']['community']=0\n",
    "G.node['E']['community']=1\n",
    "G.node['F']['community']=1\n",
    "G.node['G']['community']=1\n",
    "G.node['H']['community']=1\n",
    "G.node['I']['community']=1"
   ]
  },
  {
   "cell_type": "code",
   "execution_count": 96,
   "metadata": {},
   "outputs": [
    {
     "data": {
      "text/plain": [
       "[('A', 'C', 4),\n",
       " ('F', 'I', 2),\n",
       " ('F', 'H', 2),\n",
       " ('E', 'I', 2),\n",
       " ('E', 'H', 2),\n",
       " ('I', 'H', 2),\n",
       " ('A', 'F', 1),\n",
       " ('A', 'G', 1),\n",
       " ('D', 'F', 1),\n",
       " ('D', 'E', 1),\n",
       " ('F', 'B', 1),\n",
       " ('E', 'C', 1),\n",
       " ('E', 'B', 1),\n",
       " ('G', 'C', 1),\n",
       " ('A', 'I', 0),\n",
       " ('A', 'H', 0),\n",
       " ('D', 'G', 0),\n",
       " ('D', 'I', 0),\n",
       " ('D', 'H', 0),\n",
       " ('B', 'I', 0),\n",
       " ('B', 'H', 0),\n",
       " ('B', 'G', 0),\n",
       " ('I', 'C', 0),\n",
       " ('C', 'H', 0)]"
      ]
     },
     "execution_count": 96,
     "metadata": {},
     "output_type": "execute_result"
    }
   ],
   "source": [
    "Com_Common_Neigh = list(nx.cn_soundarajan_hopcroft(G))\n",
    "sorted(Com_Common_Neigh , key=lambda x:x[2] , reverse=True)"
   ]
  },
  {
   "cell_type": "markdown",
   "metadata": {
    "collapsed": true
   },
   "source": [
    "- **`Measure_7` : Community Resource Allocation**"
   ]
  },
  {
   "cell_type": "code",
   "execution_count": 97,
   "metadata": {},
   "outputs": [
    {
     "data": {
      "text/plain": [
       "[('A', 'C', 0.6666666666666666),\n",
       " ('F', 'I', 0.25),\n",
       " ('F', 'H', 0.25),\n",
       " ('E', 'I', 0.25),\n",
       " ('E', 'H', 0.25),\n",
       " ('I', 'H', 0.25),\n",
       " ('A', 'F', 0),\n",
       " ('A', 'G', 0),\n",
       " ('A', 'I', 0),\n",
       " ('A', 'H', 0),\n",
       " ('D', 'F', 0),\n",
       " ('D', 'E', 0),\n",
       " ('D', 'G', 0),\n",
       " ('D', 'I', 0),\n",
       " ('D', 'H', 0),\n",
       " ('F', 'B', 0),\n",
       " ('E', 'C', 0),\n",
       " ('E', 'B', 0),\n",
       " ('B', 'I', 0),\n",
       " ('B', 'H', 0),\n",
       " ('B', 'G', 0),\n",
       " ('G', 'C', 0),\n",
       " ('I', 'C', 0),\n",
       " ('C', 'H', 0)]"
      ]
     },
     "execution_count": 97,
     "metadata": {},
     "output_type": "execute_result"
    }
   ],
   "source": [
    "Com_Resource_Allo = list(nx.ra_index_soundarajan_hopcroft(G))\n",
    "sorted(Com_Resource_Allo , key=lambda x:x[2] , reverse=True)"
   ]
  },
  {
   "cell_type": "markdown",
   "metadata": {
    "collapsed": true
   },
   "source": [
    "## Important Notes.\n",
    "**I want to point out two things:**\n",
    "\n",
    "- `One`, none of these measures actually tell you whether or not you should predict that a particular edge is going to come up in the future or not. It just gives a score that is supposed to give you a sense for whether or not these two nodes are likely to connect.\n",
    "\n",
    "\n",
    "- `Second` thing is that different measures can give you different scores, right? So for example, we saw that some measures would give the edge H, I, a higher score that A,G and some measures would do the opposite. And so these measures aren't necessarily consistent with each other.\n",
    "\n",
    "\n",
    "- `SOLUTION` So if you're actually trying to solve the link-prediction problem, typically what would happen is that you would use these measures as features. And then you would use a classifier, if you have some label data, you would train a classifier and use these measures as features in order to make the prediction, and this brings us to how to extract **Graph Features** .\n",
    "# 4: Graph Features."
   ]
  },
  {
   "cell_type": "code",
   "execution_count": 128,
   "metadata": {
    "collapsed": true
   },
   "outputs": [],
   "source": [
    "import networkx as nx\n",
    "import pandas as pd\n",
    "\n",
    "G = nx.read_gpickle('major_us_cities')"
   ]
  },
  {
   "cell_type": "markdown",
   "metadata": {},
   "source": [
    "# Node\n",
    "## Our mission now is to grap these `Nodes attributes` and put them into df To create Node based Features.\n"
   ]
  },
  {
   "cell_type": "code",
   "execution_count": 129,
   "metadata": {},
   "outputs": [
    {
     "data": {
      "text/plain": [
       "[('El Paso, TX', {'location': (-106, 31), 'population': 674433}),\n",
       " ('Long Beach, CA', {'location': (-118, 33), 'population': 469428}),\n",
       " ('Dallas, TX', {'location': (-96, 32), 'population': 1257676}),\n",
       " ('Oakland, CA', {'location': (-122, 37), 'population': 406253}),\n",
       " ('Albuquerque, NM', {'location': (-106, 35), 'population': 556495}),\n",
       " ('Baltimore, MD', {'location': (-76, 39), 'population': 622104}),\n",
       " ('Raleigh, NC', {'location': (-78, 35), 'population': 431746}),\n",
       " ('Mesa, AZ', {'location': (-111, 33), 'population': 457587}),\n",
       " ('Arlington, TX', {'location': (-97, 32), 'population': 379577}),\n",
       " ('Sacramento, CA', {'location': (-121, 38), 'population': 479686})]"
      ]
     },
     "execution_count": 129,
     "metadata": {},
     "output_type": "execute_result"
    }
   ],
   "source": [
    "G.nodes(data=True)[:10]"
   ]
  },
  {
   "cell_type": "markdown",
   "metadata": {},
   "source": [
    "-  Nodes are cities in different states have an attributes like `Location` & `population`.\n",
    "\n",
    "\n",
    "**1. Initialize the dataframe, using the nodes as the index.**"
   ]
  },
  {
   "cell_type": "code",
   "execution_count": 130,
   "metadata": {},
   "outputs": [
    {
     "data": {
      "text/html": [
       "<div>\n",
       "<style>\n",
       "    .dataframe thead tr:only-child th {\n",
       "        text-align: right;\n",
       "    }\n",
       "\n",
       "    .dataframe thead th {\n",
       "        text-align: left;\n",
       "    }\n",
       "\n",
       "    .dataframe tbody tr th {\n",
       "        vertical-align: top;\n",
       "    }\n",
       "</style>\n",
       "<table border=\"1\" class=\"dataframe\">\n",
       "  <thead>\n",
       "    <tr style=\"text-align: right;\">\n",
       "      <th></th>\n",
       "    </tr>\n",
       "  </thead>\n",
       "  <tbody>\n",
       "    <tr>\n",
       "      <th>El Paso, TX</th>\n",
       "    </tr>\n",
       "    <tr>\n",
       "      <th>Long Beach, CA</th>\n",
       "    </tr>\n",
       "    <tr>\n",
       "      <th>Dallas, TX</th>\n",
       "    </tr>\n",
       "    <tr>\n",
       "      <th>Oakland, CA</th>\n",
       "    </tr>\n",
       "    <tr>\n",
       "      <th>Albuquerque, NM</th>\n",
       "    </tr>\n",
       "  </tbody>\n",
       "</table>\n",
       "</div>"
      ],
      "text/plain": [
       "Empty DataFrame\n",
       "Columns: []\n",
       "Index: [El Paso, TX, Long Beach, CA, Dallas, TX, Oakland, CA, Albuquerque, NM]"
      ]
     },
     "execution_count": 130,
     "metadata": {},
     "output_type": "execute_result"
    }
   ],
   "source": [
    "df = pd.DataFrame(index=G.nodes())\n",
    "df.head()"
   ]
  },
  {
   "cell_type": "markdown",
   "metadata": {},
   "source": [
    "**2. Extracting attributes : Using `nx.get_node_attributes` to get `Location` & `population`, it's easy to extract the node attributes in the graph into DataFrame columns.**"
   ]
  },
  {
   "cell_type": "code",
   "execution_count": 131,
   "metadata": {},
   "outputs": [
    {
     "data": {
      "text/plain": [
       "Albuquerque, NM    (-106, 35)\n",
       "Arlington, TX       (-97, 32)\n",
       "Atlanta, GA         (-84, 33)\n",
       "Austin, TX          (-97, 30)\n",
       "Baltimore, MD       (-76, 39)\n",
       "dtype: object"
      ]
     },
     "execution_count": 131,
     "metadata": {},
     "output_type": "execute_result"
    }
   ],
   "source": [
    "pd.Series(nx.get_node_attributes(G,'location')).head()"
   ]
  },
  {
   "cell_type": "code",
   "execution_count": 132,
   "metadata": {},
   "outputs": [
    {
     "data": {
      "text/html": [
       "<div>\n",
       "<style>\n",
       "    .dataframe thead tr:only-child th {\n",
       "        text-align: right;\n",
       "    }\n",
       "\n",
       "    .dataframe thead th {\n",
       "        text-align: left;\n",
       "    }\n",
       "\n",
       "    .dataframe tbody tr th {\n",
       "        vertical-align: top;\n",
       "    }\n",
       "</style>\n",
       "<table border=\"1\" class=\"dataframe\">\n",
       "  <thead>\n",
       "    <tr style=\"text-align: right;\">\n",
       "      <th></th>\n",
       "      <th>location</th>\n",
       "      <th>population</th>\n",
       "    </tr>\n",
       "  </thead>\n",
       "  <tbody>\n",
       "    <tr>\n",
       "      <th>El Paso, TX</th>\n",
       "      <td>(-106, 31)</td>\n",
       "      <td>674433</td>\n",
       "    </tr>\n",
       "    <tr>\n",
       "      <th>Long Beach, CA</th>\n",
       "      <td>(-118, 33)</td>\n",
       "      <td>469428</td>\n",
       "    </tr>\n",
       "    <tr>\n",
       "      <th>Dallas, TX</th>\n",
       "      <td>(-96, 32)</td>\n",
       "      <td>1257676</td>\n",
       "    </tr>\n",
       "    <tr>\n",
       "      <th>Oakland, CA</th>\n",
       "      <td>(-122, 37)</td>\n",
       "      <td>406253</td>\n",
       "    </tr>\n",
       "    <tr>\n",
       "      <th>Albuquerque, NM</th>\n",
       "      <td>(-106, 35)</td>\n",
       "      <td>556495</td>\n",
       "    </tr>\n",
       "  </tbody>\n",
       "</table>\n",
       "</div>"
      ],
      "text/plain": [
       "                   location  population\n",
       "El Paso, TX      (-106, 31)      674433\n",
       "Long Beach, CA   (-118, 33)      469428\n",
       "Dallas, TX        (-96, 32)     1257676\n",
       "Oakland, CA      (-122, 37)      406253\n",
       "Albuquerque, NM  (-106, 35)      556495"
      ]
     },
     "execution_count": 132,
     "metadata": {},
     "output_type": "execute_result"
    }
   ],
   "source": [
    "df['location'] = pd.Series(nx.get_node_attributes(G,'location'))\n",
    "df['population'] = pd.Series(nx.get_node_attributes(G,'population'))\n",
    "df.head()"
   ]
  },
  {
   "cell_type": "markdown",
   "metadata": {},
   "source": [
    "**3. Creating node based features : Most of the networkx functions related to nodes return a dictionary, which can also easily be added to our dataframe.**"
   ]
  },
  {
   "cell_type": "code",
   "execution_count": 133,
   "metadata": {},
   "outputs": [
    {
     "data": {
      "text/plain": [
       "Albuquerque, NM    0.523810\n",
       "Arlington, TX      0.763636\n",
       "Atlanta, GA        0.611111\n",
       "Austin, TX         0.892857\n",
       "Baltimore, MD      0.800000\n",
       "dtype: float64"
      ]
     },
     "execution_count": 133,
     "metadata": {},
     "output_type": "execute_result"
    }
   ],
   "source": [
    "pd.Series(nx.clustering(G)).head()"
   ]
  },
  {
   "cell_type": "code",
   "execution_count": 134,
   "metadata": {},
   "outputs": [
    {
     "data": {
      "text/html": [
       "<div>\n",
       "<style>\n",
       "    .dataframe thead tr:only-child th {\n",
       "        text-align: right;\n",
       "    }\n",
       "\n",
       "    .dataframe thead th {\n",
       "        text-align: left;\n",
       "    }\n",
       "\n",
       "    .dataframe tbody tr th {\n",
       "        vertical-align: top;\n",
       "    }\n",
       "</style>\n",
       "<table border=\"1\" class=\"dataframe\">\n",
       "  <thead>\n",
       "    <tr style=\"text-align: right;\">\n",
       "      <th></th>\n",
       "      <th>location</th>\n",
       "      <th>population</th>\n",
       "      <th>clustering</th>\n",
       "      <th>degree</th>\n",
       "    </tr>\n",
       "  </thead>\n",
       "  <tbody>\n",
       "    <tr>\n",
       "      <th>El Paso, TX</th>\n",
       "      <td>(-106, 31)</td>\n",
       "      <td>674433</td>\n",
       "      <td>0.700000</td>\n",
       "      <td>5</td>\n",
       "    </tr>\n",
       "    <tr>\n",
       "      <th>Long Beach, CA</th>\n",
       "      <td>(-118, 33)</td>\n",
       "      <td>469428</td>\n",
       "      <td>0.745455</td>\n",
       "      <td>11</td>\n",
       "    </tr>\n",
       "    <tr>\n",
       "      <th>Dallas, TX</th>\n",
       "      <td>(-96, 32)</td>\n",
       "      <td>1257676</td>\n",
       "      <td>0.763636</td>\n",
       "      <td>11</td>\n",
       "    </tr>\n",
       "    <tr>\n",
       "      <th>Oakland, CA</th>\n",
       "      <td>(-122, 37)</td>\n",
       "      <td>406253</td>\n",
       "      <td>1.000000</td>\n",
       "      <td>8</td>\n",
       "    </tr>\n",
       "    <tr>\n",
       "      <th>Albuquerque, NM</th>\n",
       "      <td>(-106, 35)</td>\n",
       "      <td>556495</td>\n",
       "      <td>0.523810</td>\n",
       "      <td>7</td>\n",
       "    </tr>\n",
       "  </tbody>\n",
       "</table>\n",
       "</div>"
      ],
      "text/plain": [
       "                   location  population  clustering  degree\n",
       "El Paso, TX      (-106, 31)      674433    0.700000       5\n",
       "Long Beach, CA   (-118, 33)      469428    0.745455      11\n",
       "Dallas, TX        (-96, 32)     1257676    0.763636      11\n",
       "Oakland, CA      (-122, 37)      406253    1.000000       8\n",
       "Albuquerque, NM  (-106, 35)      556495    0.523810       7"
      ]
     },
     "execution_count": 134,
     "metadata": {},
     "output_type": "execute_result"
    }
   ],
   "source": [
    "df['clustering'] = pd.Series(nx.clustering(G))\n",
    "df['degree'] = pd.Series(G.degree())\n",
    "df.head()"
   ]
  },
  {
   "cell_type": "markdown",
   "metadata": {},
   "source": [
    "# Edge\n",
    "## Our mission now is to grap these `Edges attributes` and put them into df To create Edge based Features."
   ]
  },
  {
   "cell_type": "code",
   "execution_count": 135,
   "metadata": {},
   "outputs": [
    {
     "data": {
      "text/plain": [
       "[('El Paso, TX', 'Albuquerque, NM', {'weight': 367.88584356108345}),\n",
       " ('El Paso, TX', 'Mesa, AZ', {'weight': 536.256659972679}),\n",
       " ('El Paso, TX', 'Tucson, AZ', {'weight': 425.41386739988224}),\n",
       " ('El Paso, TX', 'Phoenix, AZ', {'weight': 558.7835703774161}),\n",
       " ('El Paso, TX', 'Colorado Springs, CO', {'weight': 797.7517116740046}),\n",
       " ('Long Beach, CA', 'Oakland, CA', {'weight': 579.5829987228403}),\n",
       " ('Long Beach, CA', 'Mesa, AZ', {'weight': 590.156204210031}),\n",
       " ('Long Beach, CA', 'Sacramento, CA', {'weight': 611.0649790490104}),\n",
       " ('Long Beach, CA', 'Tucson, AZ', {'weight': 698.6566667728368}),\n",
       " ('Long Beach, CA', 'San Jose, CA', {'weight': 518.2330606219175})]"
      ]
     },
     "execution_count": 135,
     "metadata": {},
     "output_type": "execute_result"
    }
   ],
   "source": [
    "G.edges(data=True)[:10]"
   ]
  },
  {
   "cell_type": "markdown",
   "metadata": {},
   "source": [
    "**1. Initialize the dataframe, using the edges as the index.**"
   ]
  },
  {
   "cell_type": "code",
   "execution_count": 136,
   "metadata": {},
   "outputs": [
    {
     "data": {
      "text/html": [
       "<div>\n",
       "<style>\n",
       "    .dataframe thead tr:only-child th {\n",
       "        text-align: right;\n",
       "    }\n",
       "\n",
       "    .dataframe thead th {\n",
       "        text-align: left;\n",
       "    }\n",
       "\n",
       "    .dataframe tbody tr th {\n",
       "        vertical-align: top;\n",
       "    }\n",
       "</style>\n",
       "<table border=\"1\" class=\"dataframe\">\n",
       "  <thead>\n",
       "    <tr style=\"text-align: right;\">\n",
       "      <th></th>\n",
       "    </tr>\n",
       "  </thead>\n",
       "  <tbody>\n",
       "    <tr>\n",
       "      <th>(El Paso, TX, Albuquerque, NM)</th>\n",
       "    </tr>\n",
       "    <tr>\n",
       "      <th>(El Paso, TX, Mesa, AZ)</th>\n",
       "    </tr>\n",
       "    <tr>\n",
       "      <th>(El Paso, TX, Tucson, AZ)</th>\n",
       "    </tr>\n",
       "    <tr>\n",
       "      <th>(El Paso, TX, Phoenix, AZ)</th>\n",
       "    </tr>\n",
       "    <tr>\n",
       "      <th>(El Paso, TX, Colorado Springs, CO)</th>\n",
       "    </tr>\n",
       "  </tbody>\n",
       "</table>\n",
       "</div>"
      ],
      "text/plain": [
       "Empty DataFrame\n",
       "Columns: []\n",
       "Index: [(El Paso, TX, Albuquerque, NM), (El Paso, TX, Mesa, AZ), (El Paso, TX, Tucson, AZ), (El Paso, TX, Phoenix, AZ), (El Paso, TX, Colorado Springs, CO)]"
      ]
     },
     "execution_count": 136,
     "metadata": {},
     "output_type": "execute_result"
    }
   ],
   "source": [
    "df = pd.DataFrame(index=G.edges())\n",
    "df.head()"
   ]
  },
  {
   "cell_type": "markdown",
   "metadata": {},
   "source": [
    "**2. `Extracting attributes` :**\n",
    "\n",
    "**Using nx.get_edge_attributes, it's easy to extract the edge attributes in the graph into DataFrame columns.**"
   ]
  },
  {
   "cell_type": "code",
   "execution_count": 137,
   "metadata": {},
   "outputs": [
    {
     "data": {
      "text/plain": [
       "Albuquerque, NM  Colorado Springs, CO    445.640004\n",
       "                 Denver, CO              536.429183\n",
       "                 Las Vegas, NV           779.953417\n",
       "                 Mesa, AZ                514.567547\n",
       "                 Phoenix, AZ             534.040759\n",
       "dtype: float64"
      ]
     },
     "execution_count": 137,
     "metadata": {},
     "output_type": "execute_result"
    }
   ],
   "source": [
    "pd.Series(nx.get_edge_attributes(G,'weight')).head()"
   ]
  },
  {
   "cell_type": "code",
   "execution_count": 138,
   "metadata": {},
   "outputs": [
    {
     "data": {
      "text/html": [
       "<div>\n",
       "<style>\n",
       "    .dataframe thead tr:only-child th {\n",
       "        text-align: right;\n",
       "    }\n",
       "\n",
       "    .dataframe thead th {\n",
       "        text-align: left;\n",
       "    }\n",
       "\n",
       "    .dataframe tbody tr th {\n",
       "        vertical-align: top;\n",
       "    }\n",
       "</style>\n",
       "<table border=\"1\" class=\"dataframe\">\n",
       "  <thead>\n",
       "    <tr style=\"text-align: right;\">\n",
       "      <th></th>\n",
       "      <th>weight</th>\n",
       "    </tr>\n",
       "  </thead>\n",
       "  <tbody>\n",
       "    <tr>\n",
       "      <th>(El Paso, TX, Albuquerque, NM)</th>\n",
       "      <td>367.885844</td>\n",
       "    </tr>\n",
       "    <tr>\n",
       "      <th>(El Paso, TX, Mesa, AZ)</th>\n",
       "      <td>536.256660</td>\n",
       "    </tr>\n",
       "    <tr>\n",
       "      <th>(El Paso, TX, Tucson, AZ)</th>\n",
       "      <td>425.413867</td>\n",
       "    </tr>\n",
       "    <tr>\n",
       "      <th>(El Paso, TX, Phoenix, AZ)</th>\n",
       "      <td>558.783570</td>\n",
       "    </tr>\n",
       "    <tr>\n",
       "      <th>(El Paso, TX, Colorado Springs, CO)</th>\n",
       "      <td>797.751712</td>\n",
       "    </tr>\n",
       "  </tbody>\n",
       "</table>\n",
       "</div>"
      ],
      "text/plain": [
       "                                         weight\n",
       "(El Paso, TX, Albuquerque, NM)       367.885844\n",
       "(El Paso, TX, Mesa, AZ)              536.256660\n",
       "(El Paso, TX, Tucson, AZ)            425.413867\n",
       "(El Paso, TX, Phoenix, AZ)           558.783570\n",
       "(El Paso, TX, Colorado Springs, CO)  797.751712"
      ]
     },
     "execution_count": 138,
     "metadata": {},
     "output_type": "execute_result"
    }
   ],
   "source": [
    "df['weight'] = pd.Series(nx.get_edge_attributes(G,'weight'))\n",
    "df.head()"
   ]
  },
  {
   "cell_type": "markdown",
   "metadata": {},
   "source": [
    "**3. Creating edge based features :**\n",
    "\n",
    "**Many of the networkx functions related to edges return a nested data structures. We can extract the relevant data using list comprehension.**"
   ]
  },
  {
   "cell_type": "code",
   "execution_count": 151,
   "metadata": {},
   "outputs": [
    {
     "data": {
      "text/plain": [
       "[('El Paso, TX', 'Albuquerque, NM', 35),\n",
       " ('El Paso, TX', 'Mesa, AZ', 40),\n",
       " ('El Paso, TX', 'Tucson, AZ', 40),\n",
       " ('El Paso, TX', 'Phoenix, AZ', 45),\n",
       " ('El Paso, TX', 'Colorado Springs, CO', 30)]"
      ]
     },
     "execution_count": 151,
     "metadata": {},
     "output_type": "execute_result"
    }
   ],
   "source": [
    "list(nx.preferential_attachment(G,df.index))[:5]"
   ]
  },
  {
   "cell_type": "code",
   "execution_count": 152,
   "metadata": {},
   "outputs": [
    {
     "data": {
      "text/plain": [
       "Index([     ('El Paso, TX', 'Albuquerque, NM'),\n",
       "                   ('El Paso, TX', 'Mesa, AZ'),\n",
       "                 ('El Paso, TX', 'Tucson, AZ'),\n",
       "                ('El Paso, TX', 'Phoenix, AZ'),\n",
       "       ('El Paso, TX', 'Colorado Springs, CO')],\n",
       "      dtype='object')"
      ]
     },
     "execution_count": 152,
     "metadata": {},
     "output_type": "execute_result"
    }
   ],
   "source": [
    "df.index[:5]"
   ]
  },
  {
   "cell_type": "code",
   "execution_count": 153,
   "metadata": {},
   "outputs": [
    {
     "data": {
      "text/html": [
       "<div>\n",
       "<style>\n",
       "    .dataframe thead tr:only-child th {\n",
       "        text-align: right;\n",
       "    }\n",
       "\n",
       "    .dataframe thead th {\n",
       "        text-align: left;\n",
       "    }\n",
       "\n",
       "    .dataframe tbody tr th {\n",
       "        vertical-align: top;\n",
       "    }\n",
       "</style>\n",
       "<table border=\"1\" class=\"dataframe\">\n",
       "  <thead>\n",
       "    <tr style=\"text-align: right;\">\n",
       "      <th></th>\n",
       "      <th>weight</th>\n",
       "      <th>preferential attachment</th>\n",
       "    </tr>\n",
       "  </thead>\n",
       "  <tbody>\n",
       "    <tr>\n",
       "      <th>(El Paso, TX, Albuquerque, NM)</th>\n",
       "      <td>367.885844</td>\n",
       "      <td>35</td>\n",
       "    </tr>\n",
       "    <tr>\n",
       "      <th>(El Paso, TX, Mesa, AZ)</th>\n",
       "      <td>536.256660</td>\n",
       "      <td>40</td>\n",
       "    </tr>\n",
       "    <tr>\n",
       "      <th>(El Paso, TX, Tucson, AZ)</th>\n",
       "      <td>425.413867</td>\n",
       "      <td>40</td>\n",
       "    </tr>\n",
       "    <tr>\n",
       "      <th>(El Paso, TX, Phoenix, AZ)</th>\n",
       "      <td>558.783570</td>\n",
       "      <td>45</td>\n",
       "    </tr>\n",
       "    <tr>\n",
       "      <th>(El Paso, TX, Colorado Springs, CO)</th>\n",
       "      <td>797.751712</td>\n",
       "      <td>30</td>\n",
       "    </tr>\n",
       "  </tbody>\n",
       "</table>\n",
       "</div>"
      ],
      "text/plain": [
       "                                         weight  preferential attachment\n",
       "(El Paso, TX, Albuquerque, NM)       367.885844                       35\n",
       "(El Paso, TX, Mesa, AZ)              536.256660                       40\n",
       "(El Paso, TX, Tucson, AZ)            425.413867                       40\n",
       "(El Paso, TX, Phoenix, AZ)           558.783570                       45\n",
       "(El Paso, TX, Colorado Springs, CO)  797.751712                       30"
      ]
     },
     "execution_count": 153,
     "metadata": {},
     "output_type": "execute_result"
    }
   ],
   "source": [
    "df['preferential attachment'] = [i[2] for i in\n",
    "                                 nx.preferential_attachment(G,df.index)]\n",
    "df.head()"
   ]
  },
  {
   "cell_type": "markdown",
   "metadata": {},
   "source": [
    "**`If`**:\n",
    "In the case where the function expects `2 nodes to be passed in`, we can `map` the index to a `lambda` function."
   ]
  },
  {
   "cell_type": "code",
   "execution_count": 155,
   "metadata": {},
   "outputs": [
    {
     "data": {
      "text/html": [
       "<div>\n",
       "<style>\n",
       "    .dataframe thead tr:only-child th {\n",
       "        text-align: right;\n",
       "    }\n",
       "\n",
       "    .dataframe thead th {\n",
       "        text-align: left;\n",
       "    }\n",
       "\n",
       "    .dataframe tbody tr th {\n",
       "        vertical-align: top;\n",
       "    }\n",
       "</style>\n",
       "<table border=\"1\" class=\"dataframe\">\n",
       "  <thead>\n",
       "    <tr style=\"text-align: right;\">\n",
       "      <th></th>\n",
       "      <th>weight</th>\n",
       "      <th>preferential attachment</th>\n",
       "      <th>Common Neighbors</th>\n",
       "    </tr>\n",
       "  </thead>\n",
       "  <tbody>\n",
       "    <tr>\n",
       "      <th>(El Paso, TX, Albuquerque, NM)</th>\n",
       "      <td>367.885844</td>\n",
       "      <td>35</td>\n",
       "      <td>4</td>\n",
       "    </tr>\n",
       "    <tr>\n",
       "      <th>(El Paso, TX, Mesa, AZ)</th>\n",
       "      <td>536.256660</td>\n",
       "      <td>40</td>\n",
       "      <td>3</td>\n",
       "    </tr>\n",
       "    <tr>\n",
       "      <th>(El Paso, TX, Tucson, AZ)</th>\n",
       "      <td>425.413867</td>\n",
       "      <td>40</td>\n",
       "      <td>3</td>\n",
       "    </tr>\n",
       "    <tr>\n",
       "      <th>(El Paso, TX, Phoenix, AZ)</th>\n",
       "      <td>558.783570</td>\n",
       "      <td>45</td>\n",
       "      <td>3</td>\n",
       "    </tr>\n",
       "    <tr>\n",
       "      <th>(El Paso, TX, Colorado Springs, CO)</th>\n",
       "      <td>797.751712</td>\n",
       "      <td>30</td>\n",
       "      <td>1</td>\n",
       "    </tr>\n",
       "  </tbody>\n",
       "</table>\n",
       "</div>"
      ],
      "text/plain": [
       "                                         weight  preferential attachment  \\\n",
       "(El Paso, TX, Albuquerque, NM)       367.885844                       35   \n",
       "(El Paso, TX, Mesa, AZ)              536.256660                       40   \n",
       "(El Paso, TX, Tucson, AZ)            425.413867                       40   \n",
       "(El Paso, TX, Phoenix, AZ)           558.783570                       45   \n",
       "(El Paso, TX, Colorado Springs, CO)  797.751712                       30   \n",
       "\n",
       "                                     Common Neighbors  \n",
       "(El Paso, TX, Albuquerque, NM)                      4  \n",
       "(El Paso, TX, Mesa, AZ)                             3  \n",
       "(El Paso, TX, Tucson, AZ)                           3  \n",
       "(El Paso, TX, Phoenix, AZ)                          3  \n",
       "(El Paso, TX, Colorado Springs, CO)                 1  "
      ]
     },
     "execution_count": 155,
     "metadata": {},
     "output_type": "execute_result"
    }
   ],
   "source": [
    "df['Common Neighbors']= df.index.map(lambda city :\n",
    "                        len(list(nx.common_neighbors(G,city[0],city[1]))))\n",
    "df.head()"
   ]
  },
  {
   "cell_type": "code",
   "execution_count": null,
   "metadata": {
    "collapsed": true
   },
   "outputs": [],
   "source": []
  }
 ],
 "metadata": {
  "kernelspec": {
   "display_name": "Python 3",
   "language": "python",
   "name": "python3"
  },
  "language_info": {
   "codemirror_mode": {
    "name": "ipython",
    "version": 3
   },
   "file_extension": ".py",
   "mimetype": "text/x-python",
   "name": "python",
   "nbconvert_exporter": "python",
   "pygments_lexer": "ipython3",
   "version": "3.8.3"
  }
 },
 "nbformat": 4,
 "nbformat_minor": 2
}
