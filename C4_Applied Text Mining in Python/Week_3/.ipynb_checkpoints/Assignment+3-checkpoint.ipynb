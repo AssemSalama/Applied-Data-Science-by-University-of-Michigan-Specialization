{
 "cells": [
  {
   "cell_type": "markdown",
   "metadata": {},
   "source": [
    "---\n",
    "\n",
    "_You are currently looking at **version 1.1** of this notebook. To download notebooks and datafiles, as well as get help on Jupyter notebooks in the Coursera platform, visit the [Jupyter Notebook FAQ](https://www.coursera.org/learn/python-text-mining/resources/d9pwm) course resource._\n",
    "\n",
    "---"
   ]
  },
  {
   "cell_type": "markdown",
   "metadata": {},
   "source": [
    "# Assignment 3\n",
    "\n",
    "In this assignment you will explore text message data and create models to predict if a message is spam or not. "
   ]
  },
  {
   "cell_type": "code",
   "execution_count": 435,
   "metadata": {},
   "outputs": [
    {
     "name": "stdout",
     "output_type": "stream",
     "text": [
      "['ham' 'spam']\n"
     ]
    },
    {
     "data": {
      "text/html": [
       "<div>\n",
       "<style scoped>\n",
       "    .dataframe tbody tr th:only-of-type {\n",
       "        vertical-align: middle;\n",
       "    }\n",
       "\n",
       "    .dataframe tbody tr th {\n",
       "        vertical-align: top;\n",
       "    }\n",
       "\n",
       "    .dataframe thead th {\n",
       "        text-align: right;\n",
       "    }\n",
       "</style>\n",
       "<table border=\"1\" class=\"dataframe\">\n",
       "  <thead>\n",
       "    <tr style=\"text-align: right;\">\n",
       "      <th></th>\n",
       "      <th>text</th>\n",
       "      <th>target</th>\n",
       "    </tr>\n",
       "  </thead>\n",
       "  <tbody>\n",
       "    <tr>\n",
       "      <th>0</th>\n",
       "      <td>Go until jurong point, crazy.. Available only ...</td>\n",
       "      <td>0</td>\n",
       "    </tr>\n",
       "    <tr>\n",
       "      <th>1</th>\n",
       "      <td>Ok lar... Joking wif u oni...</td>\n",
       "      <td>0</td>\n",
       "    </tr>\n",
       "    <tr>\n",
       "      <th>2</th>\n",
       "      <td>Free entry in 2 a wkly comp to win FA Cup fina...</td>\n",
       "      <td>1</td>\n",
       "    </tr>\n",
       "    <tr>\n",
       "      <th>3</th>\n",
       "      <td>U dun say so early hor... U c already then say...</td>\n",
       "      <td>0</td>\n",
       "    </tr>\n",
       "    <tr>\n",
       "      <th>4</th>\n",
       "      <td>Nah I don't think he goes to usf, he lives aro...</td>\n",
       "      <td>0</td>\n",
       "    </tr>\n",
       "    <tr>\n",
       "      <th>5</th>\n",
       "      <td>FreeMsg Hey there darling it's been 3 week's n...</td>\n",
       "      <td>1</td>\n",
       "    </tr>\n",
       "    <tr>\n",
       "      <th>6</th>\n",
       "      <td>Even my brother is not like to speak with me. ...</td>\n",
       "      <td>0</td>\n",
       "    </tr>\n",
       "    <tr>\n",
       "      <th>7</th>\n",
       "      <td>As per your request 'Melle Melle (Oru Minnamin...</td>\n",
       "      <td>0</td>\n",
       "    </tr>\n",
       "    <tr>\n",
       "      <th>8</th>\n",
       "      <td>WINNER!! As a valued network customer you have...</td>\n",
       "      <td>1</td>\n",
       "    </tr>\n",
       "    <tr>\n",
       "      <th>9</th>\n",
       "      <td>Had your mobile 11 months or more? U R entitle...</td>\n",
       "      <td>1</td>\n",
       "    </tr>\n",
       "  </tbody>\n",
       "</table>\n",
       "</div>"
      ],
      "text/plain": [
       "                                                text  target\n",
       "0  Go until jurong point, crazy.. Available only ...       0\n",
       "1                      Ok lar... Joking wif u oni...       0\n",
       "2  Free entry in 2 a wkly comp to win FA Cup fina...       1\n",
       "3  U dun say so early hor... U c already then say...       0\n",
       "4  Nah I don't think he goes to usf, he lives aro...       0\n",
       "5  FreeMsg Hey there darling it's been 3 week's n...       1\n",
       "6  Even my brother is not like to speak with me. ...       0\n",
       "7  As per your request 'Melle Melle (Oru Minnamin...       0\n",
       "8  WINNER!! As a valued network customer you have...       1\n",
       "9  Had your mobile 11 months or more? U R entitle...       1"
      ]
     },
     "execution_count": 435,
     "metadata": {},
     "output_type": "execute_result"
    }
   ],
   "source": [
    "import pandas as pd\n",
    "import numpy as np\n",
    "\n",
    "spam_data = pd.read_csv('data\\spam.csv')\n",
    "\n",
    "# we have the values of the `target`col as [ham or spam] which is binary\n",
    "# classfication task. so, for mathimatical purposes it'll be[0 or 1].\n",
    "print(spam_data['target'].unique())\n",
    "\n",
    "# assign 1 for `spam` and 0 for `ham`:\n",
    "spam_data['target'] = np.where(spam_data['target']=='spam',1,0)\n",
    "spam_data.head(10)"
   ]
  },
  {
   "cell_type": "code",
   "execution_count": 436,
   "metadata": {},
   "outputs": [],
   "source": [
    "from sklearn.model_selection import train_test_split\n",
    "\n",
    "X = spam_data['text']\n",
    "y = spam_data['target']\n",
    "\n",
    "X_train, X_test, y_train, y_test = train_test_split(X,y,random_state=0)"
   ]
  },
  {
   "cell_type": "markdown",
   "metadata": {},
   "source": [
    "### Question 1\n",
    "What percentage of the documents in `spam_data` are spam?\n",
    "\n",
    "*This function should return a float, the percent value (i.e. $ratio * 100$).*"
   ]
  },
  {
   "cell_type": "code",
   "execution_count": 437,
   "metadata": {},
   "outputs": [
    {
     "data": {
      "text/plain": [
       "13.406317300789663"
      ]
     },
     "execution_count": 437,
     "metadata": {},
     "output_type": "execute_result"
    }
   ],
   "source": [
    "# Method 1:\n",
    "spam_data['target'].mean()*100"
   ]
  },
  {
   "cell_type": "code",
   "execution_count": 438,
   "metadata": {},
   "outputs": [
    {
     "name": "stdout",
     "output_type": "stream",
     "text": [
      "The total num is 5572 ,spam is747 and ham is4825\n",
      "So, the spam percentage is 13.41%\n"
     ]
    }
   ],
   "source": [
    "# Method 2:\n",
    "spam_num = len(spam_data[spam_data['target']==1])\n",
    "ham_num = len(spam_data[spam_data['target']==0])\n",
    "total = len(spam_data)\n",
    "print('The total num is {} ,spam is{} and ham is{}'.format(total,spam_num,\n",
    "                                                            ham_num))\n",
    "spam_percentage = (spam_num/total)*100\n",
    "print('So, the spam percentage is {:.2f}%'.format(spam_percentage))"
   ]
  },
  {
   "cell_type": "code",
   "execution_count": 439,
   "metadata": {},
   "outputs": [],
   "source": [
    "def answer_one():\n",
    "    spam_percentage = spam_data['target'].mean()*100\n",
    "    return spam_percentage"
   ]
  },
  {
   "cell_type": "code",
   "execution_count": 440,
   "metadata": {},
   "outputs": [
    {
     "data": {
      "text/plain": [
       "13.406317300789663"
      ]
     },
     "execution_count": 440,
     "metadata": {},
     "output_type": "execute_result"
    }
   ],
   "source": [
    "answer_one()"
   ]
  },
  {
   "cell_type": "markdown",
   "metadata": {},
   "source": [
    "### Question 2\n",
    "\n",
    "Fit the training data `X_train` using a Count Vectorizer with default parameters.\n",
    "\n",
    "What is the longest token in the vocabulary?\n",
    "\n",
    "*This function should return a string.*"
   ]
  },
  {
   "cell_type": "code",
   "execution_count": 441,
   "metadata": {},
   "outputs": [
    {
     "name": "stdout",
     "output_type": "stream",
     "text": [
      "com1win150ppmx3age16subscription\n",
      "com1win150ppmx3age16subscription\n"
     ]
    }
   ],
   "source": [
    "# Method 1:\n",
    "from sklearn.feature_extraction.text import CountVectorizer\n",
    "# Fit the CountVectorizer to the training data.\n",
    "vect = CountVectorizer().fit(X_train)\n",
    "\n",
    "# get the list of features in other word Vocabulary:\n",
    "Vocabulary = vect.get_feature_names()\n",
    "\n",
    "# sort these vocabs with respect to `word length`,then get thelongest token. \n",
    "sorted_vocab = sorted(Vocabulary ,key= lambda w: len(w),reverse=True)\n",
    "thelongest_token = sorted_vocab[0]\n",
    "print(thelongest_token)\n",
    "\n",
    "\n",
    "## Method 2:\n",
    "# get the length of each single word in `Vocabulary` in a separate list.\n",
    "len_Vocabulary = [len(w) for w in Vocabulary]\n",
    "# use the index of the longest token to pull it out from `Vocabulary`\n",
    "thelongest_token = Vocabulary[np.argmax(len_Vocabulary)]\n",
    "print(thelongest_token)"
   ]
  },
  {
   "cell_type": "code",
   "execution_count": 442,
   "metadata": {},
   "outputs": [],
   "source": [
    "from sklearn.feature_extraction.text import CountVectorizer\n",
    "\n",
    "def answer_two():\n",
    "    # Fit the CountVectorizer to the training data.\n",
    "    vect = CountVectorizer().fit(X_train)\n",
    "\n",
    "    # get the list of features in other word Vocabulary:\n",
    "    Vocabularies = vect.get_feature_names()\n",
    "\n",
    "    # sort these vocabs with respect to `word length`,then get thelongest token. \n",
    "    sorted_vocab = sorted(Vocabularies,key= lambda w: len(w),reverse=True)\n",
    "    thelongest_token = sorted_vocab[0]\n",
    "    \n",
    "    return thelongest_token"
   ]
  },
  {
   "cell_type": "code",
   "execution_count": 443,
   "metadata": {},
   "outputs": [
    {
     "data": {
      "text/plain": [
       "'com1win150ppmx3age16subscription'"
      ]
     },
     "execution_count": 443,
     "metadata": {},
     "output_type": "execute_result"
    }
   ],
   "source": [
    "answer_two()"
   ]
  },
  {
   "cell_type": "markdown",
   "metadata": {},
   "source": [
    "### Question 3\n",
    "\n",
    "Fit and transform the training data `X_train` using a Count Vectorizer with default parameters.\n",
    "\n",
    "Next, fit a fit a multinomial Naive Bayes classifier model with smoothing `alpha=0.1`. Find the area under the curve (AUC) score using the transformed test data.\n",
    "\n",
    "*This function should return the AUC score as a float.*"
   ]
  },
  {
   "cell_type": "code",
   "execution_count": 444,
   "metadata": {},
   "outputs": [
    {
     "data": {
      "text/plain": [
       "0.9720812182741116"
      ]
     },
     "execution_count": 444,
     "metadata": {},
     "output_type": "execute_result"
    }
   ],
   "source": [
    "from sklearn.naive_bayes import MultinomialNB\n",
    "from sklearn.metrics import roc_auc_score\n",
    "\n",
    "# Fit the CountVectorizer to the training data.\n",
    "vect = CountVectorizer().fit(X_train)\n",
    "# transform the documents in the training data to a document-term matrix\n",
    "X_train_vectorized = vect.transform(X_train)\n",
    "\n",
    "# train the model:\n",
    "model = MultinomialNB(alpha=0.1).fit(X_train_vectorized,y_train)\n",
    "# predict & evaluate:\n",
    "X_test_vectorized = vect.transform(X_test)\n",
    "predictions = model.predict(X_test_vectorized)\n",
    "# finally, get the AUC score:\n",
    "AUC_score = roc_auc_score(y_test,predictions)\n",
    "AUC_score"
   ]
  },
  {
   "cell_type": "code",
   "execution_count": 445,
   "metadata": {},
   "outputs": [],
   "source": [
    "from sklearn.naive_bayes import MultinomialNB\n",
    "from sklearn.metrics import roc_auc_score\n",
    "\n",
    "def answer_three():\n",
    "    # Fit the CountVectorizer to the training data.\n",
    "    vect = CountVectorizer().fit(X_train)\n",
    "    # transform the documents in the training data to a document-term matrix\n",
    "    X_train_vectorized = vect.transform(X_train)\n",
    "\n",
    "    # train the model:\n",
    "    model = MultinomialNB(alpha=0.1).fit(X_train_vectorized,y_train)\n",
    "    # predict & evaluate:\n",
    "    X_test_vectorized = vect.transform(X_test)\n",
    "    predictions = model.predict(X_test_vectorized)\n",
    "    # finally, get the AUC score:\n",
    "    AUC_score = roc_auc_score(y_test,predictions)\n",
    "    \n",
    "    return AUC_score"
   ]
  },
  {
   "cell_type": "code",
   "execution_count": 446,
   "metadata": {},
   "outputs": [
    {
     "data": {
      "text/plain": [
       "0.9720812182741116"
      ]
     },
     "execution_count": 446,
     "metadata": {},
     "output_type": "execute_result"
    }
   ],
   "source": [
    "answer_three()"
   ]
  },
  {
   "cell_type": "markdown",
   "metadata": {},
   "source": [
    "### Question 4\n",
    "\n",
    "Fit and transform the training data `X_train` using a Tfidf Vectorizer with default parameters.\n",
    "\n",
    "What 20 features have the smallest tf-idf and what 20 have the largest tf-idf?\n",
    "\n",
    "Put these features in a two series where each series is sorted by tf-idf value and then `alphabetically by feature name`. The index of the series should be the feature name, and the data should be the tf-idf.\n",
    "\n",
    "The series of 20 features with smallest tf-idfs should be sorted smallest tfidf first, the list of 20 features with largest tf-idfs should be sorted largest first. \n",
    "\n",
    "*This function should return a tuple of two series\n",
    "`(smallest tf-idfs series, largest tf-idfs series)`.*"
   ]
  },
  {
   "cell_type": "markdown",
   "metadata": {},
   "source": [
    "# My_Solution has a problem\n",
    "**I wasn't able to sort the final series by index & values simultaneously\n",
    " ,I managed to do each one of them at a time using `sort_values()` or `sort_index()`."
   ]
  },
  {
   "cell_type": "code",
   "execution_count": 447,
   "metadata": {},
   "outputs": [
    {
     "data": {
      "text/plain": [
       "(sympathetic     0.074475\n",
       " venaam          0.074475\n",
       " pudunga         0.074475\n",
       " organizer       0.074475\n",
       " psychologist    0.074475\n",
       " stylist         0.074475\n",
       " courageous      0.074475\n",
       " chef            0.074475\n",
       " determined      0.074475\n",
       " pest            0.074475\n",
       " psychiatrist    0.074475\n",
       " exterminator    0.074475\n",
       " athletic        0.074475\n",
       " listener        0.074475\n",
       " companion       0.074475\n",
       " dependable      0.074475\n",
       " aaniye          0.074475\n",
       " healer          0.074475\n",
       " diwali          0.091250\n",
       " mornings        0.091250\n",
       " dtype: float64,\n",
       " yup          1.000000\n",
       " nite         1.000000\n",
       " havent       1.000000\n",
       " home         1.000000\n",
       " okie         1.000000\n",
       " thanx        1.000000\n",
       " er           1.000000\n",
       " anything     1.000000\n",
       " lei          1.000000\n",
       " 146tf150p    1.000000\n",
       " thank        1.000000\n",
       " ok           1.000000\n",
       " where        1.000000\n",
       " beerage      1.000000\n",
       " anytime      1.000000\n",
       " too          1.000000\n",
       " done         1.000000\n",
       " 645          1.000000\n",
       " tick         0.980166\n",
       " blank        0.932702\n",
       " dtype: float64)"
      ]
     },
     "execution_count": 447,
     "metadata": {},
     "output_type": "execute_result"
    }
   ],
   "source": [
    "from sklearn.feature_extraction.text import TfidfVectorizer\n",
    "from sklearn.metrics import roc_auc_score\n",
    "\n",
    "# Fit the CountVectorizer to the training data.\n",
    "vect = TfidfVectorizer().fit(X_train)\n",
    "# transform the documents in the training data to a document-term matrix\n",
    "X_train_vectorized = vect.transform(X_train)\n",
    "\n",
    "# get the feature names in separate list and convert it to np.array()\n",
    "feature_names = np.array(vect.get_feature_names())\n",
    "\n",
    "# sort the `tfidf weights` ascendingly, and what is more important\n",
    "# is getting these sorted indexes to use it to pull the words out and\n",
    "# to get tfidf weights in the same order .\n",
    "all_tfidf_vals = X_train_vectorized.max(0).toarray()[0]\n",
    "sorted_tfidf_index = X_train_vectorized.max(0).toarray()[0].argsort()\n",
    "sorted_tfidf_vals = all_tfidf_vals[sorted_tfidf_index]\n",
    "\n",
    "# finally, use these sorted indexes to pull out the 20 words of \n",
    "# smallest & largest tfidf:\n",
    "smallest_tfidf_words = feature_names[sorted_tfidf_index[:20]]\n",
    "largest_tfidf_words = feature_names[sorted_tfidf_index[:-21:-1]]\n",
    "\n",
    "# create a pandas series where index is feature names(words)\n",
    "# and data is tfidf weights:\n",
    "smallest_ser = pd.Series(sorted_tfidf_vals[:20],\n",
    "                            index =smallest_tfidf_words)\n",
    "largest_ser = pd.Series(sorted_tfidf_vals[:-21:-1],\n",
    "                        index =largest_tfidf_words)\n",
    "\n",
    "# sort the smallest_ser `ascendingly` and largest_ser `descendingly`.\n",
    "# .sort_index()\n",
    "smallest_ser_asc = smallest_ser.sort_values(ascending=True)\n",
    "largest_ser_des =  largest_ser.sort_values(ascending=False)\n",
    "\n",
    "(smallest_ser_asc,largest_ser_des)"
   ]
  },
  {
   "cell_type": "markdown",
   "metadata": {},
   "source": [
    "# The `little flaw` Solution\n",
    "**The `smallest` worked well names are alphabetically ordered & values are ascendingly ordered. But,the `largest` its first two records needs to be at the end and it'll be perfect.**"
   ]
  },
  {
   "cell_type": "code",
   "execution_count": 448,
   "metadata": {},
   "outputs": [
    {
     "data": {
      "text/plain": [
       "(aaniye          0.074475\n",
       " athletic        0.074475\n",
       " chef            0.074475\n",
       " companion       0.074475\n",
       " courageous      0.074475\n",
       " dependable      0.074475\n",
       " determined      0.074475\n",
       " exterminator    0.074475\n",
       " healer          0.074475\n",
       " listener        0.074475\n",
       " organizer       0.074475\n",
       " pest            0.074475\n",
       " psychiatrist    0.074475\n",
       " psychologist    0.074475\n",
       " pudunga         0.074475\n",
       " stylist         0.074475\n",
       " sympathetic     0.074475\n",
       " venaam          0.074475\n",
       " afternoons      0.091250\n",
       " approaching     0.091250\n",
       " dtype: float64,\n",
       " blank        0.932702\n",
       " tick         0.980166\n",
       " 146tf150p    1.000000\n",
       " 645          1.000000\n",
       " anything     1.000000\n",
       " anytime      1.000000\n",
       " beerage      1.000000\n",
       " done         1.000000\n",
       " er           1.000000\n",
       " havent       1.000000\n",
       " home         1.000000\n",
       " lei          1.000000\n",
       " nite         1.000000\n",
       " ok           1.000000\n",
       " okie         1.000000\n",
       " thank        1.000000\n",
       " thanx        1.000000\n",
       " too          1.000000\n",
       " where        1.000000\n",
       " yup          1.000000\n",
       " dtype: float64)"
      ]
     },
     "execution_count": 448,
     "metadata": {},
     "output_type": "execute_result"
    }
   ],
   "source": [
    "# Fit the CountVectorizer to the training data.\n",
    "vect = TfidfVectorizer().fit(X_train)\n",
    "# transform the documents in the training data to a document-term matrix\n",
    "X_train_vectorized = vect.transform(X_train)\n",
    "\n",
    "\n",
    "# get the feature names in separate list and convert it to pd.Series()\n",
    "# and do the exact same process in the tfidf weights.\n",
    "feature_names = pd.Series(vect.get_feature_names())\n",
    "all_tfidf_vals = pd.Series(X_train_vectorized.max(0).toarray()[0])\n",
    "\n",
    "# put them in a dataframe.\n",
    "b = pd.DataFrame({'features':feature_names, 'tfidf':all_tfidf_vals})\n",
    "b.sort_values(by=['tfidf','features'] , inplace=True)\n",
    "b.set_index('features', inplace = True)\n",
    "b.index.name = None\n",
    "\n",
    "smallest = b.iloc[:20,0]\n",
    "largest = b.iloc[-20:,0]\n",
    "\n",
    "smallest.name = None\n",
    "largest.name = None\n",
    "\n",
    "(smallest,largest)"
   ]
  },
  {
   "cell_type": "markdown",
   "metadata": {},
   "source": [
    "# The `perfect` Solution\n",
    "### the reason to put `feature_names` in np.array():\n",
    "- Because only integer scalar arrays can be converted to a scalar index, in other words to be able to use the sorted indexes to pull out the features.\n",
    "- we didn't do that with `tfidfs` is it is originally a np.array().\n",
    "\n",
    "**`numpy.squeeze()`**\n",
    "\n",
    "- function is used when we want to remove single-dimensional entries from the shape of an array.\n",
    "\n",
    "**`numpy.flip()`** used in [Q11]\n",
    "\n",
    "function reverses the order of array elements along the specified axis, preserving the shape of the array.\n",
    "\n",
    "source: https://www.geeksforgeeks.org/numpy-squeeze-in-python/, https://www.geeksforgeeks.org/numpy-flip-python/"
   ]
  },
  {
   "cell_type": "code",
   "execution_count": 459,
   "metadata": {},
   "outputs": [
    {
     "data": {
      "text/plain": [
       "(aaniye          0.074475\n",
       " athletic        0.074475\n",
       " chef            0.074475\n",
       " companion       0.074475\n",
       " courageous      0.074475\n",
       " dependable      0.074475\n",
       " determined      0.074475\n",
       " exterminator    0.074475\n",
       " healer          0.074475\n",
       " listener        0.074475\n",
       " organizer       0.074475\n",
       " pest            0.074475\n",
       " psychiatrist    0.074475\n",
       " psychologist    0.074475\n",
       " pudunga         0.074475\n",
       " stylist         0.074475\n",
       " sympathetic     0.074475\n",
       " venaam          0.074475\n",
       " childrens       0.091250\n",
       " diwali          0.091250\n",
       " mornings        0.091250\n",
       " dtype: float64,\n",
       " 645         1.000000\n",
       " anything    1.000000\n",
       " anytime     1.000000\n",
       " beerage     1.000000\n",
       " done        1.000000\n",
       " er          1.000000\n",
       " havent      1.000000\n",
       " home        1.000000\n",
       " lei         1.000000\n",
       " nite        1.000000\n",
       " ok          1.000000\n",
       " okie        1.000000\n",
       " thank       1.000000\n",
       " thanx       1.000000\n",
       " too         1.000000\n",
       " where       1.000000\n",
       " yup         1.000000\n",
       " tick        0.980166\n",
       " blank       0.932702\n",
       " dtype: float64)"
      ]
     },
     "execution_count": 459,
     "metadata": {},
     "output_type": "execute_result"
    }
   ],
   "source": [
    "vect = TfidfVectorizer().fit(X_train)\n",
    "feature_names = np.array(vect.get_feature_names())\n",
    "X_train_vectorized = vect.transform(X_train)\n",
    "\n",
    "tfidfs = X_train_vectorized.max(0).toarray()[0]\n",
    "sorted_tfidf_index = tfidfs.argsort()\n",
    "\n",
    "\n",
    "data_s = pd.DataFrame({'features':feature_names[sorted_tfidf_index[:20]],\n",
    "                       'tfidf':tfidfs[sorted_tfidf_index[:20]]})\n",
    "data_s = data_s.sort_values(by=['tfidf','features'], ascending=[True,True])\n",
    "\n",
    "ser_s = data_s.set_index('features').squeeze()\n",
    "ser_s.name=None\n",
    "ser_s.index.name=None\n",
    "\n",
    "\n",
    "data_l = pd.DataFrame({'features':feature_names[sorted_tfidf_index[-20:-1]],\n",
    "                       'tfidf':tfidfs[sorted_tfidf_index[-20:-1]]})\n",
    "data_l = data_l.sort_values(by=['tfidf','features'], ascending=[False,True])\n",
    "\n",
    "ser_l = data_l.set_index('features').squeeze()\n",
    "ser_l.name=None\n",
    "ser_l.index.name=None\n",
    "(ser_s,ser_l)"
   ]
  },
  {
   "cell_type": "code",
   "execution_count": 450,
   "metadata": {},
   "outputs": [],
   "source": [
    "from sklearn.feature_extraction.text import TfidfVectorizer\n",
    "\n",
    "def answer_four():\n",
    "    vect = TfidfVectorizer().fit(X_train)\n",
    "    feature_names = np.array(vect.get_feature_names())\n",
    "    X_train_vectorized = vect.transform(X_train)\n",
    "\n",
    "    tfidfs = X_train_vectorized.max(0).toarray()[0]\n",
    "    sorted_tfidf_index = tfidfs.argsort()\n",
    "\n",
    "\n",
    "    data_s = pd.DataFrame({'features':feature_names[sorted_tfidf_index[:20]],\n",
    "                           'tfidf':tfidfs[sorted_tfidf_index[:20]]})\n",
    "    data_s = data_s.sort_values(by=['tfidf','features'], ascending=[True,True])\n",
    "\n",
    "    ser_s = data_s.set_index('features').squeeze()\n",
    "    ser_s.name=None\n",
    "    ser_s.index.name=None\n",
    "\n",
    "\n",
    "    data_l = pd.DataFrame({'features':feature_names[sorted_tfidf_index[-20:-1]],\n",
    "                           'tfidf':tfidfs[sorted_tfidf_index[-20:-1]]})\n",
    "    data_l = data_l.sort_values(by=['tfidf','features'], ascending=[False,True])\n",
    "\n",
    "    ser_l = data_l.set_index('features').squeeze()\n",
    "    ser_l.name=None\n",
    "    ser_l.index.name=None\n",
    "    \n",
    "    return (ser_s,ser_l)"
   ]
  },
  {
   "cell_type": "code",
   "execution_count": 451,
   "metadata": {},
   "outputs": [
    {
     "data": {
      "text/plain": [
       "(aaniye          0.074475\n",
       " athletic        0.074475\n",
       " chef            0.074475\n",
       " companion       0.074475\n",
       " courageous      0.074475\n",
       " dependable      0.074475\n",
       " determined      0.074475\n",
       " exterminator    0.074475\n",
       " healer          0.074475\n",
       " listener        0.074475\n",
       " organizer       0.074475\n",
       " pest            0.074475\n",
       " psychiatrist    0.074475\n",
       " psychologist    0.074475\n",
       " pudunga         0.074475\n",
       " stylist         0.074475\n",
       " sympathetic     0.074475\n",
       " venaam          0.074475\n",
       " diwali          0.091250\n",
       " mornings        0.091250\n",
       " dtype: float64,\n",
       " 645         1.000000\n",
       " anything    1.000000\n",
       " anytime     1.000000\n",
       " beerage     1.000000\n",
       " done        1.000000\n",
       " er          1.000000\n",
       " havent      1.000000\n",
       " home        1.000000\n",
       " lei         1.000000\n",
       " nite        1.000000\n",
       " ok          1.000000\n",
       " okie        1.000000\n",
       " thank       1.000000\n",
       " thanx       1.000000\n",
       " too         1.000000\n",
       " where       1.000000\n",
       " yup         1.000000\n",
       " tick        0.980166\n",
       " blank       0.932702\n",
       " dtype: float64)"
      ]
     },
     "execution_count": 451,
     "metadata": {},
     "output_type": "execute_result"
    }
   ],
   "source": [
    "answer_four()"
   ]
  },
  {
   "cell_type": "markdown",
   "metadata": {},
   "source": [
    "### Question 5\n",
    "\n",
    "Fit and transform the training data `X_train` using a Tfidf Vectorizer ignoring terms that have a document frequency strictly lower than **3**.\n",
    "\n",
    "Then fit a multinomial Naive Bayes classifier model with smoothing `alpha=0.1` and compute the area under the curve (AUC) score using the transformed test data.\n",
    "\n",
    "*This function should return the AUC score as a float.*"
   ]
  },
  {
   "cell_type": "code",
   "execution_count": 452,
   "metadata": {},
   "outputs": [],
   "source": [
    "from sklearn.feature_extraction.text import TfidfVectorizer\n",
    "from sklearn.naive_bayes import MultinomialNB\n",
    "from sklearn.metrics import roc_auc_score\n",
    "\n",
    "vect = TfidfVectorizer(min_df=3).fit(X_train)\n",
    "\n",
    "# vectorize X_train & train the model.\n",
    "X_train_vectorized = vect.transform(X_train)\n",
    "model = MultinomialNB(alpha=0.1).fit(X_train_vectorized,y_train)\n",
    "\n",
    "# vectorize X_test, predict & evaluate \n",
    "X_test_vectorized = vect.transform(X_test)\n",
    "predictions = model.predict(X_test_vectorized)\n",
    "AUC_score = roc_auc_score(y_test,predictions)"
   ]
  },
  {
   "cell_type": "code",
   "execution_count": 453,
   "metadata": {},
   "outputs": [],
   "source": [
    "def answer_five():\n",
    "    from sklearn.feature_extraction.text import TfidfVectorizer\n",
    "    from sklearn.naive_bayes import MultinomialNB\n",
    "    from sklearn.metrics import roc_auc_score\n",
    "\n",
    "    vect = TfidfVectorizer(min_df=3).fit(X_train)\n",
    "\n",
    "    # vectorize X_rain & train the model.\n",
    "    X_train_vectorized = vect.transform(X_train)\n",
    "    model = MultinomialNB(alpha=0.1).fit(X_train_vectorized,y_train)\n",
    "\n",
    "    # predict & evaluate \n",
    "    X_test_vectorized = vect.transform(X_test)\n",
    "    predictions = model.predict(X_test_vectorized)\n",
    "    AUC_score = roc_auc_score(y_test,predictions)\n",
    "    \n",
    "    return AUC_score"
   ]
  },
  {
   "cell_type": "code",
   "execution_count": 454,
   "metadata": {},
   "outputs": [
    {
     "data": {
      "text/plain": [
       "0.9416243654822335"
      ]
     },
     "execution_count": 454,
     "metadata": {},
     "output_type": "execute_result"
    }
   ],
   "source": [
    "answer_five()"
   ]
  },
  {
   "cell_type": "markdown",
   "metadata": {},
   "source": [
    "### Question 6\n",
    "\n",
    "What is the average length of documents (number of characters) for not spam and spam documents?\n",
    "\n",
    "*This function should return a tuple (average length not spam, average length spam).*"
   ]
  },
  {
   "cell_type": "code",
   "execution_count": 455,
   "metadata": {},
   "outputs": [
    {
     "name": "stdout",
     "output_type": "stream",
     "text": [
      "[155, 148, 158, 154, 136, 156, 149, 156, 159, 172]\n",
      "[155, 148, 158, 154, 136, 156, 149, 156, 159, 172]\n",
      "[155, 148, 158, 154, 136, 156, 149, 156, 159, 172]\n",
      "\n",
      " [111, 29, 49, 61, 77, 160, 109, 196, 35, 26]\n",
      "[111, 29, 49, 61, 77, 160, 109, 196, 35, 26]\n",
      "[111, 29, 49, 61, 77, 160, 109, 196, 35, 26]\n",
      "\n",
      " (71.02362694300518, 138.8661311914324)\n",
      "(71.02362694300518, 138.8661311914324)\n"
     ]
    }
   ],
   "source": [
    "spam = spam_data[spam_data['target']==1]\n",
    "no_spam = spam_data[spam_data['target']==0]\n",
    "\n",
    "# the list of each text length\n",
    "spam_lens = []\n",
    "spam_lens2 = list(map(len,spam['text']))\n",
    "spam_lens3 = [len(text) for text in spam['text']]\n",
    "for text in spam['text']:\n",
    "    spam_lens.append(len(text))\n",
    "# get the mean    \n",
    "spam_mean = np.array(spam_lens).mean()\n",
    "spam_mean2 = np.mean(spam_lens)\n",
    "\n",
    "# repeat the above process again:\n",
    "no_spam_lens = []\n",
    "no_spam_lens2 = list(map(len,no_spam['text']))\n",
    "no_spam_lens3 = [len(text) for text in no_spam['text']]\n",
    "for text in no_spam['text']:\n",
    "    no_spam_lens.append(len(text))\n",
    "    \n",
    "no_spam_mean = np.array(no_spam_lens).mean()\n",
    "no_spam_mean2 = np.mean(no_spam_lens)\n",
    "\n",
    "\n",
    "#--------------------------------------\n",
    "print(spam_lens[:10])\n",
    "print(spam_lens2[:10])\n",
    "print(spam_lens3[:10])\n",
    "\n",
    "print('\\n',no_spam_lens[:10])\n",
    "print(no_spam_lens2[:10])\n",
    "print(no_spam_lens3[:10])\n",
    "\n",
    "\n",
    "print('\\n',(no_spam_mean,spam_mean))\n",
    "print((no_spam_mean2,spam_mean2))"
   ]
  },
  {
   "cell_type": "code",
   "execution_count": 456,
   "metadata": {},
   "outputs": [],
   "source": [
    "def answer_six():\n",
    "    spam = spam_data[spam_data['target']==1]\n",
    "    no_spam = spam_data[spam_data['target']==0]\n",
    "    \n",
    "    spam_lens2 = list(map(len,spam['text']))\n",
    "    spam_mean2 = np.mean(spam_lens2)\n",
    "    \n",
    "    no_spam_lens = []\n",
    "    for text in no_spam['text']:\n",
    "        no_spam_lens.append(len(text))\n",
    "    no_spam_mean = np.array(no_spam_lens).mean()\n",
    "\n",
    "\n",
    "    return (no_spam_mean,spam_mean2)"
   ]
  },
  {
   "cell_type": "code",
   "execution_count": 457,
   "metadata": {},
   "outputs": [
    {
     "data": {
      "text/plain": [
       "(71.02362694300518, 138.8661311914324)"
      ]
     },
     "execution_count": 457,
     "metadata": {},
     "output_type": "execute_result"
    }
   ],
   "source": [
    "answer_six()"
   ]
  },
  {
   "cell_type": "markdown",
   "metadata": {},
   "source": [
    "<br>\n",
    "<br>\n",
    "The following function has been provided to help you combine new features into the training data:"
   ]
  },
  {
   "cell_type": "code",
   "execution_count": 458,
   "metadata": {},
   "outputs": [],
   "source": [
    "def add_feature(X, feature_to_add):\n",
    "    \"\"\"\n",
    "    Returns sparse feature matrix with added feature.\n",
    "    feature_to_add can also be a list of features.\n",
    "    \"\"\"\n",
    "    from scipy.sparse import csr_matrix, hstack\n",
    "    return hstack([X, csr_matrix(feature_to_add).T], 'csr')"
   ]
  },
  {
   "cell_type": "markdown",
   "metadata": {},
   "source": [
    "### Question 7\n",
    "\n",
    "Fit and transform the training data X_train using a Tfidf Vectorizer ignoring terms that have a document frequency strictly lower than **5**.\n",
    "\n",
    "Using this document-term matrix and an additional feature, **the length of document (number of characters)**, fit a Support Vector Classification model with regularization `C=10000`. Then compute the area under the curve (AUC) score using the transformed test data.\n",
    "\n",
    "*This function should return the AUC score as a float.*"
   ]
  },
  {
   "cell_type": "code",
   "execution_count": 276,
   "metadata": {},
   "outputs": [
    {
     "data": {
      "text/plain": [
       "0.9661689557407943"
      ]
     },
     "execution_count": 276,
     "metadata": {},
     "output_type": "execute_result"
    }
   ],
   "source": [
    "from sklearn.feature_extraction.text import TfidfVectorizer\n",
    "from sklearn.svm import SVC\n",
    "from sklearn.metrics import roc_auc_score\n",
    "\n",
    "vect = TfidfVectorizer(min_df=5).fit(X_train)\n",
    "X_train_vectorized = vect.transform(X_train)\n",
    "\n",
    "new_X_train = add_feature(X_train_vectorized ,[len(text) for text in X_train])\n",
    "model = SVC(C=10000).fit(new_X_train , y_train)\n",
    "\n",
    "# do the same process above to the test data & predict & evaluate.\n",
    "X_test_vectorized = vect.transform(X_test)\n",
    "new_X_test = add_feature(X_test_vectorized , [len(text) for text in X_test])\n",
    "\n",
    "predictions = model.predict(new_X_test)\n",
    "AUC_score = roc_auc_score(y_test , predictions)\n",
    "AUC_score"
   ]
  },
  {
   "cell_type": "code",
   "execution_count": 277,
   "metadata": {},
   "outputs": [],
   "source": [
    "from sklearn.svm import SVC\n",
    "\n",
    "def answer_seven():\n",
    "    from sklearn.feature_extraction.text import TfidfVectorizer\n",
    "    from sklearn.svm import SVC\n",
    "    from sklearn.metrics import roc_auc_score\n",
    "\n",
    "    vect = TfidfVectorizer(min_df=5).fit(X_train)\n",
    "    X_train_vectorized = vect.transform(X_train)\n",
    "\n",
    "    new_X_train = add_feature(X_train_vectorized ,[len(text) for text in X_train])\n",
    "    model = SVC(C=10000).fit(new_X_train , y_train)\n",
    "\n",
    "    # do the same process above to the test data & predict & evaluate.\n",
    "    X_test_vectorized = vect.transform(X_test)\n",
    "    new_X_test = add_feature(X_test_vectorized , [len(text) for text in X_test])\n",
    "\n",
    "    predictions = model.predict(new_X_test)\n",
    "    AUC_score = roc_auc_score(y_test , predictions)\n",
    "    \n",
    "    return AUC_score"
   ]
  },
  {
   "cell_type": "code",
   "execution_count": 278,
   "metadata": {},
   "outputs": [
    {
     "data": {
      "text/plain": [
       "0.9661689557407943"
      ]
     },
     "execution_count": 278,
     "metadata": {},
     "output_type": "execute_result"
    }
   ],
   "source": [
    "answer_seven()"
   ]
  },
  {
   "cell_type": "markdown",
   "metadata": {},
   "source": [
    "### Question 8\n",
    "\n",
    "What is the average number of digits per document for not spam and spam documents?\n",
    "\n",
    "*This function should return a tuple (average # digits not spam, average # digits spam).*"
   ]
  },
  {
   "cell_type": "markdown",
   "metadata": {},
   "source": [
    "# My_solution."
   ]
  },
  {
   "cell_type": "code",
   "execution_count": 286,
   "metadata": {},
   "outputs": [
    {
     "name": "stdout",
     "output_type": "stream",
     "text": [
      "15.759036144578314\n"
     ]
    },
    {
     "data": {
      "text/plain": [
       "2       25\n",
       "5        4\n",
       "8       19\n",
       "9       13\n",
       "11      22\n",
       "        ..\n",
       "5537    21\n",
       "5540    14\n",
       "5547     2\n",
       "5566     5\n",
       "5567    21\n",
       "Name: text, Length: 747, dtype: int64"
      ]
     },
     "execution_count": 286,
     "metadata": {},
     "output_type": "execute_result"
    }
   ],
   "source": [
    "print(spam['text'].str.count(r'\\d').mean())\n",
    "spam['text'].str.count(r'\\d')"
   ]
  },
  {
   "cell_type": "code",
   "execution_count": 283,
   "metadata": {},
   "outputs": [
    {
     "data": {
      "text/plain": [
       "(0.2992746113989637, 15.759036144578314)"
      ]
     },
     "execution_count": 283,
     "metadata": {},
     "output_type": "execute_result"
    }
   ],
   "source": [
    "# Method 1:\n",
    "spam = spam_data[spam_data['target']==1]\n",
    "no_spam = spam_data[spam_data['target']==0]\n",
    "\n",
    "x = spam['text'].str.count(r'\\d').mean()\n",
    "y = no_spam['text'].str.count(r'\\d').mean()\n",
    "(y,x)"
   ]
  },
  {
   "cell_type": "markdown",
   "metadata": {},
   "source": [
    "# Other `fine`_Solutions."
   ]
  },
  {
   "cell_type": "code",
   "execution_count": 293,
   "metadata": {},
   "outputs": [
    {
     "name": "stdout",
     "output_type": "stream",
     "text": [
      "2\n"
     ]
    },
    {
     "data": {
      "text/plain": [
       "(0.2992746113989637, 15.759036144578314)"
      ]
     },
     "execution_count": 293,
     "metadata": {},
     "output_type": "execute_result"
    }
   ],
   "source": [
    "# Method 2:\n",
    "str1 = 'assem_98'\n",
    "print(sum([lett.isdigit() for lett in str1]))\n",
    "\n",
    "def count_digits(str):\n",
    "    check = [lett.isdigit() for lett in str] # this give a list of T and F.\n",
    "    return(sum(check))\n",
    "\n",
    "spam_n_digit = [count_digits(text) for text in spam['text']]\n",
    "nospam_n_digit = [count_digits(text) for text in no_spam['text']]\n",
    "\n",
    "(np.mean(nospam_n_digit) , np.mean(spam_n_digit))"
   ]
  },
  {
   "cell_type": "code",
   "execution_count": 305,
   "metadata": {},
   "outputs": [
    {
     "name": "stdout",
     "output_type": "stream",
     "text": [
      "[25, 4, 19]\n"
     ]
    },
    {
     "data": {
      "text/plain": [
       "(0.2992746113989637, 15.76037483266399)"
      ]
     },
     "execution_count": 305,
     "metadata": {},
     "output_type": "execute_result"
    }
   ],
   "source": [
    "# Method 3:\n",
    "spam_n_digit = [sum(lett.isnumeric() for lett in text) for text in spam['text']]\n",
    "nospam_n_digit = [sum(lett.isnumeric() for lett in text) for text in no_spam['text']]\n",
    "\n",
    "print(spam_n_digit[:3])\n",
    "(np.mean(nospam_n_digit) , np.mean(spam_n_digit))"
   ]
  },
  {
   "cell_type": "code",
   "execution_count": 306,
   "metadata": {},
   "outputs": [
    {
     "name": "stdout",
     "output_type": "stream",
     "text": [
      "[['2', '2', '1', '2', '0', '0', '5', '8', '7', '1', '2', '1', '0', '8', '4', '5', '2', '8', '1', '0', '0', '7', '5', '1', '8'], ['3', '1', '5', '0']]\n",
      "\n",
      " [25, 4, 19]\n"
     ]
    },
    {
     "data": {
      "text/plain": [
       "(0.2992746113989637, 15.759036144578314)"
      ]
     },
     "execution_count": 306,
     "metadata": {},
     "output_type": "execute_result"
    }
   ],
   "source": [
    "# Method 4:\n",
    "import re\n",
    "# re.findall() gives exactly a list of numbers itselves\n",
    "spam_digit = [re.findall('\\d',text) for text in spam['text']]\n",
    "print(spam_digit[:2])\n",
    "nospam_digit = [re.findall('\\d',text) for text in no_spam['text']]\n",
    "\n",
    "# get the num of digits in each one in the above lists.\n",
    "spam_digit_num = list(map(len,spam_digit))\n",
    "print('\\n',spam_digit_num[:3])\n",
    "nospam_digit_num = list(map(len,nospam_digit))\n",
    "\n",
    "(np.mean(nospam_digit_num) , np.mean(spam_digit_num))"
   ]
  },
  {
   "cell_type": "code",
   "execution_count": 307,
   "metadata": {},
   "outputs": [],
   "source": [
    "def answer_eight():\n",
    "    spam = spam_data[spam_data['target']==1]\n",
    "    no_spam = spam_data[spam_data['target']==0]\n",
    "\n",
    "    x = spam['text'].str.count(r'\\d').mean()\n",
    "    y = no_spam['text'].str.count(r'\\d').mean()\n",
    "    \n",
    "    return (y,x)"
   ]
  },
  {
   "cell_type": "code",
   "execution_count": 308,
   "metadata": {},
   "outputs": [
    {
     "data": {
      "text/plain": [
       "(0.2992746113989637, 15.759036144578314)"
      ]
     },
     "execution_count": 308,
     "metadata": {},
     "output_type": "execute_result"
    }
   ],
   "source": [
    "answer_eight()"
   ]
  },
  {
   "cell_type": "markdown",
   "metadata": {},
   "source": [
    "### Question 9\n",
    "\n",
    "Fit and transform the training data `X_train` using a Tfidf Vectorizer ignoring terms that have a document frequency strictly lower than **5** and using **word n-grams from n=1 to n=3** (unigrams, bigrams, and trigrams).\n",
    "\n",
    "Using this document-term matrix and the following additional features:\n",
    "* the length of document (number of characters)\n",
    "* **number of digits per document**\n",
    "\n",
    "fit a Logistic Regression model with regularization `C=100`. Then compute the area under the curve (AUC) score using the transformed test data.\n",
    "\n",
    "*This function should return the AUC score as a float.*"
   ]
  },
  {
   "cell_type": "markdown",
   "metadata": {},
   "source": [
    "# My_Solutions."
   ]
  },
  {
   "cell_type": "code",
   "execution_count": 321,
   "metadata": {},
   "outputs": [
    {
     "name": "stderr",
     "output_type": "stream",
     "text": [
      "C:\\Users\\Assem Salama\\anaconda3\\lib\\site-packages\\sklearn\\linear_model\\_logistic.py:762: ConvergenceWarning: lbfgs failed to converge (status=1):\n",
      "STOP: TOTAL NO. of ITERATIONS REACHED LIMIT.\n",
      "\n",
      "Increase the number of iterations (max_iter) or scale the data as shown in:\n",
      "    https://scikit-learn.org/stable/modules/preprocessing.html\n",
      "Please also refer to the documentation for alternative solver options:\n",
      "    https://scikit-learn.org/stable/modules/linear_model.html#logistic-regression\n",
      "  n_iter_i = _check_optimize_result(\n"
     ]
    },
    {
     "data": {
      "text/plain": [
       "0.9809793219360643"
      ]
     },
     "execution_count": 321,
     "metadata": {},
     "output_type": "execute_result"
    }
   ],
   "source": [
    "from sklearn.feature_extraction.text import TfidfVectorizer\n",
    "from sklearn.linear_model import LogisticRegression\n",
    "from sklearn.metrics import roc_auc_score\n",
    "\n",
    "vect = TfidfVectorizer(min_df=5 , ngram_range=(1,3)).fit(X_train)\n",
    "X_train_vectorized = vect.transform(X_train)\n",
    "\n",
    "new_X_train = add_feature(X_train_vectorized ,\n",
    "     [[len(text) for text in X_train],\n",
    "      [sum(char.isdigit() for char in text) for text in X_train]])\n",
    "\n",
    "model = LogisticRegression(C=100).fit(new_X_train,y_train)\n",
    "\n",
    "# do the same process above to the test data & predict & evaluate.\n",
    "X_test_vectorized = vect.transform(X_test)\n",
    "\n",
    "new_X_test = add_feature(X_test_vectorized ,\n",
    "     [[len(text) for text in X_test],\n",
    "      [sum(char.isdigit() for char in text) for text in X_test]])\n",
    "\n",
    "predictions = model.predict(new_X_test)\n",
    "AUC_score = roc_auc_score(y_test , predictions)\n",
    "AUC_score"
   ]
  },
  {
   "cell_type": "markdown",
   "metadata": {},
   "source": [
    "# Good_Solution as well."
   ]
  },
  {
   "cell_type": "code",
   "execution_count": 322,
   "metadata": {},
   "outputs": [
    {
     "name": "stderr",
     "output_type": "stream",
     "text": [
      "C:\\Users\\Assem Salama\\anaconda3\\lib\\site-packages\\sklearn\\linear_model\\_logistic.py:762: ConvergenceWarning: lbfgs failed to converge (status=1):\n",
      "STOP: TOTAL NO. of ITERATIONS REACHED LIMIT.\n",
      "\n",
      "Increase the number of iterations (max_iter) or scale the data as shown in:\n",
      "    https://scikit-learn.org/stable/modules/preprocessing.html\n",
      "Please also refer to the documentation for alternative solver options:\n",
      "    https://scikit-learn.org/stable/modules/linear_model.html#logistic-regression\n",
      "  n_iter_i = _check_optimize_result(\n"
     ]
    },
    {
     "data": {
      "text/plain": [
       "0.9809793219360643"
      ]
     },
     "execution_count": 322,
     "metadata": {},
     "output_type": "execute_result"
    }
   ],
   "source": [
    "vect = TfidfVectorizer(min_df=5, ngram_range=(1,3)).fit(X_train)\n",
    "X_train_vectorized = vect.transform(X_train)\n",
    "\n",
    "to_add = [len(i) for i in X_train]\n",
    "X_train_new = add_feature(X_train_vectorized, to_add)\n",
    "to_add2 = [count_digits(i) for i in X_train]\n",
    "X_train_new2 = add_feature(X_train_new, to_add2)\n",
    "\n",
    "model = LogisticRegression(C=100)\n",
    "model.fit(X_train_new2, y_train)\n",
    "\n",
    "to_add_test = [len(i) for i in X_test]\n",
    "X_test_new = add_feature(vect.transform(X_test), to_add_test)\n",
    "to_add_test2 = [count_digits(i) for i in X_test]\n",
    "X_test_new2 = add_feature(X_test_new, to_add_test2)\n",
    "\n",
    "predictions = model.predict(X_test_new2)\n",
    "roc_auc_score(y_test, predictions)"
   ]
  },
  {
   "cell_type": "code",
   "execution_count": 323,
   "metadata": {},
   "outputs": [],
   "source": [
    "from sklearn.feature_extraction.text import TfidfVectorizer\n",
    "from sklearn.linear_model import LogisticRegression\n",
    "from sklearn.metrics import roc_auc_score\n",
    "\n",
    "def answer_nine():\n",
    "    vect = TfidfVectorizer(min_df=5 , ngram_range=(1,3)).fit(X_train)\n",
    "    X_train_vectorized = vect.transform(X_train)\n",
    "\n",
    "    new_X_train = add_feature(X_train_vectorized ,\n",
    "         [[len(text) for text in X_train],\n",
    "          [sum(char.isdigit() for char in text) for text in X_train]])\n",
    "\n",
    "    model = LogisticRegression(C=100).fit(new_X_train,y_train)\n",
    "\n",
    "    # do the same process above to the test data & predict & evaluate.\n",
    "    X_test_vectorized = vect.transform(X_test)\n",
    "\n",
    "    new_X_test = add_feature(X_test_vectorized ,\n",
    "         [[len(text) for text in X_test],\n",
    "          [sum(char.isdigit() for char in text) for text in X_test]])\n",
    "\n",
    "    predictions = model.predict(new_X_test)\n",
    "    AUC_score = roc_auc_score(y_test , predictions)\n",
    "    \n",
    "    return AUC_score"
   ]
  },
  {
   "cell_type": "code",
   "execution_count": 324,
   "metadata": {},
   "outputs": [
    {
     "name": "stderr",
     "output_type": "stream",
     "text": [
      "C:\\Users\\Assem Salama\\anaconda3\\lib\\site-packages\\sklearn\\linear_model\\_logistic.py:762: ConvergenceWarning: lbfgs failed to converge (status=1):\n",
      "STOP: TOTAL NO. of ITERATIONS REACHED LIMIT.\n",
      "\n",
      "Increase the number of iterations (max_iter) or scale the data as shown in:\n",
      "    https://scikit-learn.org/stable/modules/preprocessing.html\n",
      "Please also refer to the documentation for alternative solver options:\n",
      "    https://scikit-learn.org/stable/modules/linear_model.html#logistic-regression\n",
      "  n_iter_i = _check_optimize_result(\n"
     ]
    },
    {
     "data": {
      "text/plain": [
       "0.9809793219360643"
      ]
     },
     "execution_count": 324,
     "metadata": {},
     "output_type": "execute_result"
    }
   ],
   "source": [
    "answer_nine()"
   ]
  },
  {
   "cell_type": "markdown",
   "metadata": {},
   "source": [
    "### Question 10\n",
    "\n",
    "What is the average number of non-word characters (anything other than a letter, digit or underscore) per document for not spam and spam documents?\n",
    "\n",
    "**Hint**\n",
    "\n",
    "*`\\w`: Returns a match where the string contains any word characters (characters from a to Z, digits from 0-9, and the underscore _ character).*\n",
    "\n",
    "*`\\W`:Returns a match where the string DOES NOT contain any word characters*\n",
    "\n",
    "- source : https://www.w3schools.com/python/python_regex.asp\n",
    "\n",
    "*This function should return a tuple (average # non-word characters not spam, average # non-word characters spam).*"
   ]
  },
  {
   "cell_type": "code",
   "execution_count": 346,
   "metadata": {},
   "outputs": [
    {
     "name": "stdout",
     "output_type": "stream",
     "text": [
      "[33, 40, 32]\n"
     ]
    },
    {
     "data": {
      "text/plain": [
       "(17.29181347150259, 29.041499330655956)"
      ]
     },
     "execution_count": 346,
     "metadata": {},
     "output_type": "execute_result"
    }
   ],
   "source": [
    "# Method 1:\n",
    "spam = spam_data[spam_data['target']==1]\n",
    "no_spam = spam_data[spam_data['target']==0]\n",
    "\n",
    "nowordnum_spam = list(spam['text'].str.count(r'\\W'))\n",
    "nowordnum_no_spam = list(no_spam['text'].str.count(r'\\W'))\n",
    "\n",
    "print(nowordnum_spam[:3])\n",
    "(np.mean(nowordnum_no_spam) , np.mean(nowordnum_spam))"
   ]
  },
  {
   "cell_type": "code",
   "execution_count": 347,
   "metadata": {},
   "outputs": [
    {
     "name": "stdout",
     "output_type": "stream",
     "text": [
      "[33 41 33]\n"
     ]
    },
    {
     "data": {
      "text/plain": [
       "(17.37720207253886, 29.49665327978581)"
      ]
     },
     "execution_count": 347,
     "metadata": {},
     "output_type": "execute_result"
    }
   ],
   "source": [
    "# Method 2:\n",
    "spam_nonword = np.array(spam['text'].str.findall(r'[^a-zA-Z0-9_]').str.len())\n",
    "notspam_nonword = np.array(no_spam['text'].str.findall(r'[^a-zA-Z0-9_]').str.len())\n",
    "\n",
    "print(spam_nonword[:3])\n",
    "(notspam_nonword.mean(), spam_nonword.mean())"
   ]
  },
  {
   "cell_type": "code",
   "execution_count": 348,
   "metadata": {},
   "outputs": [],
   "source": [
    "def answer_ten():\n",
    "    spam = spam_data[spam_data['target']==1]\n",
    "    no_spam = spam_data[spam_data['target']==0]\n",
    "\n",
    "    nowordnum_spam = list(spam['text'].str.count(r'\\W'))\n",
    "    nowordnum_no_spam = list(no_spam['text'].str.count(r'\\W'))\n",
    "    \n",
    "    return (np.mean(nowordnum_no_spam) , np.mean(nowordnum_spam))"
   ]
  },
  {
   "cell_type": "code",
   "execution_count": 349,
   "metadata": {},
   "outputs": [
    {
     "data": {
      "text/plain": [
       "(17.29181347150259, 29.041499330655956)"
      ]
     },
     "execution_count": 349,
     "metadata": {},
     "output_type": "execute_result"
    }
   ],
   "source": [
    "answer_ten()"
   ]
  },
  {
   "cell_type": "markdown",
   "metadata": {},
   "source": [
    "### Question 11\n",
    "\n",
    "Fit and transform the training data X_train using a Count Vectorizer ignoring terms that have a document frequency strictly lower than **5** and using **character n-grams from n=2 to n=5.**\n",
    "\n",
    "To tell Count Vectorizer to use character n-grams pass in `analyzer='char_wb'` which creates character n-grams only from text inside word boundaries. This should make the model more robust to spelling mistakes.\n",
    "\n",
    "Using this document-term matrix and the following additional features:\n",
    "* the length of document (number of characters)\n",
    "* number of digits per document\n",
    "* **number of non-word characters (anything other than a letter, digit or underscore.)**\n",
    "\n",
    "fit a Logistic Regression model with regularization C=100. Then compute the area under the curve (AUC) score using the transformed test data.\n",
    "\n",
    "Also **find the 10 smallest and 10 largest coefficients from the model** and return them along with the AUC score in a tuple.\n",
    "\n",
    "The list of 10 smallest coefficients should be sorted smallest first, the list of 10 largest coefficients should be sorted largest first.\n",
    "\n",
    "The three features that were added to the document term matrix should have the following names should they appear in the list of coefficients:\n",
    "['length_of_doc', 'digit_count', 'non_word_char_count']\n",
    "\n",
    "*This function should return a tuple `(AUC score as a float, smallest coefs list, largest coefs list)`.*"
   ]
  },
  {
   "cell_type": "markdown",
   "metadata": {},
   "source": [
    "# # step_1"
   ]
  },
  {
   "cell_type": "code",
   "execution_count": 398,
   "metadata": {},
   "outputs": [
    {
     "name": "stderr",
     "output_type": "stream",
     "text": [
      "C:\\Users\\Assem Salama\\anaconda3\\lib\\site-packages\\sklearn\\linear_model\\_logistic.py:762: ConvergenceWarning: lbfgs failed to converge (status=1):\n",
      "STOP: TOTAL NO. of ITERATIONS REACHED LIMIT.\n",
      "\n",
      "Increase the number of iterations (max_iter) or scale the data as shown in:\n",
      "    https://scikit-learn.org/stable/modules/preprocessing.html\n",
      "Please also refer to the documentation for alternative solver options:\n",
      "    https://scikit-learn.org/stable/modules/linear_model.html#logistic-regression\n",
      "  n_iter_i = _check_optimize_result(\n"
     ]
    },
    {
     "data": {
      "text/plain": [
       "0.9813973821367333"
      ]
     },
     "execution_count": 398,
     "metadata": {},
     "output_type": "execute_result"
    }
   ],
   "source": [
    "from sklearn.feature_extraction.text import CountVectorizer\n",
    "from sklearn.linear_model import LogisticRegression\n",
    "from sklearn.metrics import roc_auc_score\n",
    "\n",
    "vect = CountVectorizer(min_df=5 ,analyzer='char_wb',\n",
    "                       ngram_range=(2,5)).fit(X_train)\n",
    "X_train_vectorized = vect.transform(X_train)\n",
    "\n",
    "new_X_train = add_feature(X_train_vectorized ,\n",
    "     [[len(text) for text in X_train],\n",
    "      [sum(char.isdigit() for char in text) for text in X_train],\n",
    "       list(X_train.str.count(r'\\W'))])\n",
    "\n",
    "model = LogisticRegression(C=100).fit(new_X_train,y_train)\n",
    "\n",
    "# do the same process above to the test data & predict & evaluate.\n",
    "X_test_vectorized = vect.transform(X_test)\n",
    "\n",
    "new_X_test = add_feature(X_test_vectorized ,\n",
    "     [[len(text) for text in X_test],\n",
    "      [sum(char.isdigit() for char in text) for text in X_test],\n",
    "       list(X_test.str.count(r'\\W'))])\n",
    "\n",
    "predictions = model.predict(new_X_test)\n",
    "AUC_score = roc_auc_score(y_test , predictions)\n",
    "AUC_score"
   ]
  },
  {
   "cell_type": "markdown",
   "metadata": {},
   "source": [
    "# # step_2"
   ]
  },
  {
   "cell_type": "code",
   "execution_count": 432,
   "metadata": {},
   "outputs": [
    {
     "data": {
      "text/plain": [
       "ne       0.707185\n",
       "co       0.678665\n",
       "ww       0.651855\n",
       "ia       0.630800\n",
       " ch      0.603733\n",
       "ar       0.597598\n",
       "xt       0.591771\n",
       "mob      0.550670\n",
       " r       0.538644\n",
       "eply     0.530793\n",
       "dtype: float64"
      ]
     },
     "execution_count": 432,
     "metadata": {},
     "output_type": "execute_result"
    }
   ],
   "source": [
    "model_coef = model.coef_[0]\n",
    "sorted_coef_index = model_coef.argsort()\n",
    "# Because only integer scalar arrays can be converted \n",
    "# to a scalar index we need to convert to np.array()\n",
    "# we didn't do that with `model_coef` is it is originally a np.array()\n",
    "feature_names = np.array(vect.get_feature_names())\n",
    "\n",
    "data_s = pd.DataFrame({'features':feature_names[sorted_coef_index[:10]],\n",
    "                       'coef':model_coef[sorted_coef_index[:10]]})\n",
    "data_s = data_s.sort_values(by = 'coef', ascending=True)\n",
    "ser_s = data_s.set_index('features').squeeze()\n",
    "ser_s.name = None\n",
    "ser_s.index.name=None\n",
    "\n",
    "data_l = pd.DataFrame({'features' : feature_names[sorted_coef_index[-11:-1]],\n",
    "                       'coef' : model_coef[sorted_coef_index[-11:-1]]})\n",
    "data_l = data_l.sort_values(by = 'coef', ascending=False)\n",
    "ser_l = data_l.set_index('features').squeeze()\n",
    "ser_l.name = None\n",
    "ser_l.index.name=None\n",
    "ser_l"
   ]
  },
  {
   "cell_type": "markdown",
   "metadata": {},
   "source": [
    "# # Learned_trick.\n",
    "**`numpy.flip()`** used in [Q11]\n",
    "\n",
    "function reverses the order of array elements along the specified axis, preserving the shape of the array."
   ]
  },
  {
   "cell_type": "code",
   "execution_count": 430,
   "metadata": {},
   "outputs": [
    {
     "data": {
      "text/plain": [
       "(array(['..', '. ', ' i', ' go', '? ', ' y', 'pe', 'go', 'ca', ':)'],\n",
       "       dtype='<U5'),\n",
       " array(['ne', 'co', 'ww', 'ia', ' ch', 'ar', 'xt', 'mob', ' r', 'eply '],\n",
       "       dtype='<U5'))"
      ]
     },
     "execution_count": 430,
     "metadata": {},
     "output_type": "execute_result"
    }
   ],
   "source": [
    "smallest = feature_names[sorted_coef_index[:10]]\n",
    "largest = feature_names[sorted_coef_index[-11:-1]]\n",
    "largest = np.flip(largest)\n",
    "\n",
    "(smallest,largest)"
   ]
  },
  {
   "cell_type": "code",
   "execution_count": 433,
   "metadata": {},
   "outputs": [],
   "source": [
    "def answer_eleven():\n",
    "    from sklearn.feature_extraction.text import CountVectorizer\n",
    "    from sklearn.linear_model import LogisticRegression\n",
    "    from sklearn.metrics import roc_auc_score\n",
    "    \n",
    "    # Step_1:\n",
    "    vect = CountVectorizer(min_df=5 ,analyzer='char_wb',\n",
    "                           ngram_range=(2,5)).fit(X_train)\n",
    "    X_train_vectorized = vect.transform(X_train)\n",
    "\n",
    "    new_X_train = add_feature(X_train_vectorized ,\n",
    "         [[len(text) for text in X_train],\n",
    "          [sum(char.isdigit() for char in text) for text in X_train],\n",
    "           list(X_train.str.count(r'\\W'))])\n",
    "\n",
    "    model = LogisticRegression(C=100).fit(new_X_train,y_train)\n",
    "\n",
    "    # do the same process above to the test data & predict & evaluate.\n",
    "    X_test_vectorized = vect.transform(X_test)\n",
    "\n",
    "    new_X_test = add_feature(X_test_vectorized ,\n",
    "         [[len(text) for text in X_test],\n",
    "          [sum(char.isdigit() for char in text) for text in X_test],\n",
    "           list(X_test.str.count(r'\\W'))])\n",
    "\n",
    "    predictions = model.predict(new_X_test)\n",
    "    AUC_score = roc_auc_score(y_test , predictions)\n",
    "    \n",
    "    # Step_2:\n",
    "    model_coef = model.coef_[0]\n",
    "    sorted_coef_index = model_coef.argsort()\n",
    "    feature_names = np.array(vect.get_feature_names())\n",
    "\n",
    "    data_s = pd.DataFrame({'features':feature_names[sorted_coef_index[:10]],\n",
    "                           'coef':model_coef[sorted_coef_index[:10]]})\n",
    "    data_s = data_s.sort_values(by = 'coef', ascending=True)\n",
    "    ser_s = data_s.set_index('features').squeeze()\n",
    "    ser_s.name = None\n",
    "    ser_s.index.name=None\n",
    "\n",
    "    data_l = pd.DataFrame({'features' : feature_names[sorted_coef_index[-11:-1]],\n",
    "                           'coef' : model_coef[sorted_coef_index[-11:-1]]})\n",
    "    data_l = data_l.sort_values(by = 'coef', ascending=False)\n",
    "    ser_l = data_l.set_index('features').squeeze()\n",
    "    ser_l.name = None\n",
    "    ser_l.index.name=None\n",
    "    \n",
    "    return (AUC_score,ser_s,ser_l)"
   ]
  },
  {
   "cell_type": "code",
   "execution_count": 434,
   "metadata": {},
   "outputs": [
    {
     "name": "stderr",
     "output_type": "stream",
     "text": [
      "C:\\Users\\Assem Salama\\anaconda3\\lib\\site-packages\\sklearn\\linear_model\\_logistic.py:762: ConvergenceWarning: lbfgs failed to converge (status=1):\n",
      "STOP: TOTAL NO. of ITERATIONS REACHED LIMIT.\n",
      "\n",
      "Increase the number of iterations (max_iter) or scale the data as shown in:\n",
      "    https://scikit-learn.org/stable/modules/preprocessing.html\n",
      "Please also refer to the documentation for alternative solver options:\n",
      "    https://scikit-learn.org/stable/modules/linear_model.html#logistic-regression\n",
      "  n_iter_i = _check_optimize_result(\n"
     ]
    },
    {
     "data": {
      "text/plain": [
       "(0.9813973821367333,\n",
       " ..    -1.257601\n",
       " .     -1.000331\n",
       "  i    -0.797285\n",
       "  go   -0.698415\n",
       " ?     -0.662370\n",
       "  y    -0.621408\n",
       " pe    -0.602630\n",
       " go    -0.602337\n",
       " ca    -0.560428\n",
       " :)    -0.558181\n",
       " dtype: float64,\n",
       " ne       0.707185\n",
       " co       0.678665\n",
       " ww       0.651855\n",
       " ia       0.630800\n",
       "  ch      0.603733\n",
       " ar       0.597598\n",
       " xt       0.591771\n",
       " mob      0.550670\n",
       "  r       0.538644\n",
       " eply     0.530793\n",
       " dtype: float64)"
      ]
     },
     "execution_count": 434,
     "metadata": {},
     "output_type": "execute_result"
    }
   ],
   "source": [
    "answer_eleven()"
   ]
  },
  {
   "cell_type": "code",
   "execution_count": null,
   "metadata": {},
   "outputs": [],
   "source": []
  }
 ],
 "metadata": {
  "coursera": {
   "course_slug": "python-text-mining",
   "graded_item_id": "Pn19K",
   "launcher_item_id": "y1juS",
   "part_id": "ctlgo"
  },
  "kernelspec": {
   "display_name": "Python 3",
   "language": "python",
   "name": "python3"
  },
  "language_info": {
   "codemirror_mode": {
    "name": "ipython",
    "version": 3
   },
   "file_extension": ".py",
   "mimetype": "text/x-python",
   "name": "python",
   "nbconvert_exporter": "python",
   "pygments_lexer": "ipython3",
   "version": "3.8.3"
  }
 },
 "nbformat": 4,
 "nbformat_minor": 2
}
